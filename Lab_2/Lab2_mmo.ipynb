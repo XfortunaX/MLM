{
  "nbformat": 4,
  "nbformat_minor": 0,
  "metadata": {
    "colab": {
      "name": "ml_lab2.ipynb",
      "version": "0.3.2",
      "provenance": [],
      "collapsed_sections": []
    },
    "language_info": {
      "codemirror_mode": {
        "name": "ipython",
        "version": 3
      },
      "file_extension": ".py",
      "mimetype": "text/x-python",
      "name": "python",
      "nbconvert_exporter": "python",
      "pygments_lexer": "ipython3",
      "version": "3.5.2"
    },
    "authors": [
      {
        "name": "Могильников Илья Андреевич"
      }
    ],
    "kernelspec": {
      "display_name": "Python 3",
      "language": "python",
      "name": "python3"
    }
  },
  "cells": [
    {
      "cell_type": "markdown",
      "metadata": {
        "id": "XRNHnrnaxAkm",
        "colab_type": "text"
      },
      "source": [
        "# Описание задания"
      ]
    },
    {
      "cell_type": "markdown",
      "metadata": {
        "id": "Nq5fo0Z4xAkp",
        "colab_type": "text"
      },
      "source": [
        "# Лабораторная работа №2\n",
        "\n",
        "**Цель:** изучение библиотек обработки данных Pandas и PandaSQL."
      ]
    },
    {
      "cell_type": "markdown",
      "metadata": {
        "id": "Sn6KiEl_xAkr",
        "colab_type": "text"
      },
      "source": [
        "Задание:"
      ]
    },
    {
      "cell_type": "markdown",
      "metadata": {
        "id": "G5AdrhEwxAkt",
        "colab_type": "text"
      },
      "source": [
        "* Выполнить первое демонстрационное задание \"demo assignment\" под названием \"Exploratory data analysis with Pandas\" со страницы курса https://mlcourse.ai/assignments"
      ]
    },
    {
      "cell_type": "markdown",
      "metadata": {
        "id": "FFQs1wOQxAkv",
        "colab_type": "text"
      },
      "source": [
        "* Выполнить с использованием двух различных библиотек - Pandas и PandaSQL один произвольный запрос на соединение двух наборов данных и один произвольный запрос на группировку набора данных с использованием функций агрегирования"
      ]
    },
    {
      "cell_type": "markdown",
      "metadata": {
        "id": "FaqdFq1CxAkw",
        "colab_type": "text"
      },
      "source": [
        "* Сравнить время выполнения каждого запроса в Pandas и PandaSQL."
      ]
    },
    {
      "cell_type": "markdown",
      "metadata": {
        "id": "Bt1rXsrdxAky",
        "colab_type": "text"
      },
      "source": [
        "# Ход выполнения лабораторной работы"
      ]
    },
    {
      "cell_type": "markdown",
      "metadata": {
        "colab_type": "text",
        "id": "C7wZzlmpUQpX"
      },
      "source": [
        "## Часть 1"
      ]
    },
    {
      "cell_type": "code",
      "metadata": {
        "colab_type": "code",
        "id": "p3KU56bSUatR",
        "outputId": "7d57ab63-f2d6-4303-9f63-5d81b9ae6c91",
        "colab": {
          "base_uri": "https://localhost:8080/",
          "height": 51
        }
      },
      "source": [
        "!pip install -U -q PyDrive\n",
        "import os\n",
        "from pydrive.auth import GoogleAuth\n",
        "from pydrive.drive import GoogleDrive\n",
        "from google.colab import auth\n",
        "from oauth2client.client import GoogleCredentials"
      ],
      "execution_count": 0,
      "outputs": [
        {
          "output_type": "stream",
          "text": [
            "\u001b[?25l\r\u001b[K    1% |▎                               | 10kB 20.9MB/s eta 0:00:01\r\u001b[K    2% |▋                               | 20kB 3.4MB/s eta 0:00:01\r\u001b[K    3% |█                               | 30kB 4.9MB/s eta 0:00:01\r\u001b[K    4% |█▎                              | 40kB 3.1MB/s eta 0:00:01\r\u001b[K    5% |█▋                              | 51kB 3.8MB/s eta 0:00:01\r\u001b[K    6% |██                              | 61kB 4.5MB/s eta 0:00:01\r\u001b[K    7% |██▎                             | 71kB 5.2MB/s eta 0:00:01\r\u001b[K    8% |██▋                             | 81kB 5.8MB/s eta 0:00:01\r\u001b[K    9% |███                             | 92kB 6.5MB/s eta 0:00:01\r\u001b[K    10% |███▎                            | 102kB 5.1MB/s eta 0:00:01\r\u001b[K    11% |███▋                            | 112kB 5.1MB/s eta 0:00:01\r\u001b[K    12% |████                            | 122kB 6.9MB/s eta 0:00:01\r\u001b[K    13% |████▎                           | 133kB 6.9MB/s eta 0:00:01\r\u001b[K    14% |████▋                           | 143kB 12.6MB/s eta 0:00:01\r\u001b[K    15% |█████                           | 153kB 12.7MB/s eta 0:00:01\r\u001b[K    16% |█████▎                          | 163kB 12.7MB/s eta 0:00:01\r\u001b[K    17% |█████▋                          | 174kB 12.8MB/s eta 0:00:01\r\u001b[K    18% |██████                          | 184kB 12.9MB/s eta 0:00:01\r\u001b[K    19% |██████▎                         | 194kB 12.9MB/s eta 0:00:01\r\u001b[K    20% |██████▋                         | 204kB 43.0MB/s eta 0:00:01\r\u001b[K    21% |███████                         | 215kB 15.0MB/s eta 0:00:01\r\u001b[K    22% |███████▎                        | 225kB 15.1MB/s eta 0:00:01\r\u001b[K    23% |███████▋                        | 235kB 15.3MB/s eta 0:00:01\r\u001b[K    24% |████████                        | 245kB 15.2MB/s eta 0:00:01\r\u001b[K    25% |████████▎                       | 256kB 15.2MB/s eta 0:00:01\r\u001b[K    26% |████████▋                       | 266kB 14.6MB/s eta 0:00:01\r\u001b[K    27% |█████████                       | 276kB 14.8MB/s eta 0:00:01\r\u001b[K    29% |█████████▎                      | 286kB 14.8MB/s eta 0:00:01\r\u001b[K    30% |█████████▋                      | 296kB 14.8MB/s eta 0:00:01\r\u001b[K    31% |██████████                      | 307kB 15.5MB/s eta 0:00:01\r\u001b[K    32% |██████████▎                     | 317kB 51.1MB/s eta 0:00:01\r\u001b[K    33% |██████████▋                     | 327kB 51.5MB/s eta 0:00:01\r\u001b[K    34% |███████████                     | 337kB 52.6MB/s eta 0:00:01\r\u001b[K    35% |███████████▎                    | 348kB 47.8MB/s eta 0:00:01\r\u001b[K    36% |███████████▋                    | 358kB 47.6MB/s eta 0:00:01\r\u001b[K    37% |████████████                    | 368kB 55.9MB/s eta 0:00:01\r\u001b[K    38% |████████████▎                   | 378kB 56.1MB/s eta 0:00:01\r\u001b[K    39% |████████████▋                   | 389kB 56.0MB/s eta 0:00:01\r\u001b[K    40% |█████████████                   | 399kB 18.9MB/s eta 0:00:01\r\u001b[K    41% |█████████████▎                  | 409kB 18.6MB/s eta 0:00:01\r\u001b[K    42% |█████████████▋                  | 419kB 18.6MB/s eta 0:00:01\r\u001b[K    43% |██████████████                  | 430kB 18.4MB/s eta 0:00:01\r\u001b[K    44% |██████████████▎                 | 440kB 18.4MB/s eta 0:00:01\r\u001b[K    45% |██████████████▋                 | 450kB 18.6MB/s eta 0:00:01\r\u001b[K    46% |███████████████                 | 460kB 18.5MB/s eta 0:00:01\r\u001b[K    47% |███████████████▎                | 471kB 18.6MB/s eta 0:00:01\r\u001b[K    48% |███████████████▋                | 481kB 18.6MB/s eta 0:00:01\r\u001b[K    49% |████████████████                | 491kB 18.6MB/s eta 0:00:01\r\u001b[K    50% |████████████████▎               | 501kB 53.8MB/s eta 0:00:01\r\u001b[K    51% |████████████████▋               | 512kB 50.8MB/s eta 0:00:01\r\u001b[K    52% |█████████████████               | 522kB 50.9MB/s eta 0:00:01\r\u001b[K    53% |█████████████████▎              | 532kB 53.8MB/s eta 0:00:01\r\u001b[K    54% |█████████████████▋              | 542kB 54.7MB/s eta 0:00:01\r\u001b[K    55% |██████████████████              | 552kB 62.1MB/s eta 0:00:01\r\u001b[K    57% |██████████████████▎             | 563kB 62.9MB/s eta 0:00:01\r\u001b[K    58% |██████████████████▋             | 573kB 60.9MB/s eta 0:00:01\r\u001b[K    59% |███████████████████             | 583kB 60.1MB/s eta 0:00:01\r\u001b[K    60% |███████████████████▎            | 593kB 60.5MB/s eta 0:00:01\r\u001b[K    61% |███████████████████▋            | 604kB 60.5MB/s eta 0:00:01\r\u001b[K    62% |████████████████████            | 614kB 67.3MB/s eta 0:00:01\r\u001b[K    63% |████████████████████▎           | 624kB 65.7MB/s eta 0:00:01\r\u001b[K    64% |████████████████████▋           | 634kB 64.3MB/s eta 0:00:01\r\u001b[K    65% |█████████████████████           | 645kB 63.3MB/s eta 0:00:01\r\u001b[K    66% |█████████████████████▎          | 655kB 61.9MB/s eta 0:00:01\r\u001b[K    67% |█████████████████████▋          | 665kB 46.3MB/s eta 0:00:01\r\u001b[K    68% |██████████████████████          | 675kB 46.6MB/s eta 0:00:01\r\u001b[K    69% |██████████████████████▎         | 686kB 47.3MB/s eta 0:00:01\r\u001b[K    70% |██████████████████████▋         | 696kB 47.5MB/s eta 0:00:01\r\u001b[K    71% |███████████████████████         | 706kB 47.4MB/s eta 0:00:01\r\u001b[K    72% |███████████████████████▎        | 716kB 47.9MB/s eta 0:00:01\r\u001b[K    73% |███████████████████████▋        | 727kB 48.1MB/s eta 0:00:01\r\u001b[K    74% |████████████████████████        | 737kB 47.6MB/s eta 0:00:01\r\u001b[K    75% |████████████████████████▎       | 747kB 48.0MB/s eta 0:00:01\r\u001b[K    76% |████████████████████████▋       | 757kB 48.2MB/s eta 0:00:01\r\u001b[K    77% |████████████████████████▉       | 768kB 65.3MB/s eta 0:00:01\r\u001b[K    78% |█████████████████████████▏      | 778kB 63.4MB/s eta 0:00:01\r\u001b[K    79% |█████████████████████████▌      | 788kB 59.7MB/s eta 0:00:01\r\u001b[K    80% |█████████████████████████▉      | 798kB 58.7MB/s eta 0:00:01\r\u001b[K    81% |██████████████████████████▏     | 808kB 58.2MB/s eta 0:00:01\r\u001b[K    82% |██████████████████████████▌     | 819kB 55.8MB/s eta 0:00:01\r\u001b[K    83% |██████████████████████████▉     | 829kB 56.3MB/s eta 0:00:01\r\u001b[K    85% |███████████████████████████▏    | 839kB 56.9MB/s eta 0:00:01\r\u001b[K    86% |███████████████████████████▌    | 849kB 56.5MB/s eta 0:00:01\r\u001b[K    87% |███████████████████████████▉    | 860kB 50.5MB/s eta 0:00:01\r\u001b[K    88% |████████████████████████████▏   | 870kB 49.8MB/s eta 0:00:01\r\u001b[K    89% |████████████████████████████▌   | 880kB 51.9MB/s eta 0:00:01\r\u001b[K    90% |████████████████████████████▉   | 890kB 54.4MB/s eta 0:00:01\r\u001b[K    91% |█████████████████████████████▏  | 901kB 54.3MB/s eta 0:00:01\r\u001b[K    92% |█████████████████████████████▌  | 911kB 54.6MB/s eta 0:00:01\r\u001b[K    93% |█████████████████████████████▉  | 921kB 56.7MB/s eta 0:00:01\r\u001b[K    94% |██████████████████████████████▏ | 931kB 56.8MB/s eta 0:00:01\r\u001b[K    95% |██████████████████████████████▌ | 942kB 57.4MB/s eta 0:00:01\r\u001b[K    96% |██████████████████████████████▉ | 952kB 57.0MB/s eta 0:00:01\r\u001b[K    97% |███████████████████████████████▏| 962kB 64.9MB/s eta 0:00:01\r\u001b[K    98% |███████████████████████████████▌| 972kB 65.8MB/s eta 0:00:01\r\u001b[K    99% |███████████████████████████████▉| 983kB 65.0MB/s eta 0:00:01\r\u001b[K    100% |████████████████████████████████| 993kB 20.8MB/s \n",
            "\u001b[?25h  Building wheel for PyDrive (setup.py) ... \u001b[?25ldone\n",
            "\u001b[?25h"
          ],
          "name": "stdout"
        }
      ]
    },
    {
      "cell_type": "code",
      "metadata": {
        "colab_type": "code",
        "id": "2UzDbTuZVW53",
        "colab": {}
      },
      "source": [
        "# 1. Authenticate and create the PyDrive client.\n",
        "auth.authenticate_user()\n",
        "gauth = GoogleAuth()\n",
        "gauth.credentials = GoogleCredentials.get_application_default()\n",
        "drive = GoogleDrive(gauth)"
      ],
      "execution_count": 0,
      "outputs": []
    },
    {
      "cell_type": "code",
      "metadata": {
        "colab_type": "code",
        "id": "VZTQ_Z4DVaCp",
        "colab": {}
      },
      "source": [
        "# choose a local (colab) directory to store the data.\n",
        "local_download_path = os.path.expanduser('~/data')\n",
        "try:\n",
        "  os.makedirs(local_download_path)\n",
        "except: pass"
      ],
      "execution_count": 0,
      "outputs": []
    },
    {
      "cell_type": "code",
      "metadata": {
        "colab_type": "code",
        "id": "6Nq3JbykVhmt",
        "colab": {}
      },
      "source": [
        "# 2. Auto-iterate using the query syntax\n",
        "#    https://developers.google.com/drive/v2/web/search-parameters\n",
        "file_list = drive.ListFile(\n",
        "    {'q': \"title='adult.data.csv'\"}).GetList()"
      ],
      "execution_count": 0,
      "outputs": []
    },
    {
      "cell_type": "code",
      "metadata": {
        "colab_type": "code",
        "id": "F7p1PEj8Vkyo",
        "outputId": "486ec1d7-cf81-4259-90ff-7c42b05be8af",
        "colab": {
          "base_uri": "https://localhost:8080/",
          "height": 51
        }
      },
      "source": [
        "for f in file_list:\n",
        "  # 3. Create & download by id.\n",
        "  print('title: %s, id: %s' % (f['title'], f['id']))\n",
        "  fname = os.path.join(local_download_path, f['title'])\n",
        "  print('downloading to {}'.format(fname))\n",
        "  f_ = drive.CreateFile({'id': f['id']})\n",
        "  f_.GetContentFile(fname)"
      ],
      "execution_count": 0,
      "outputs": [
        {
          "output_type": "stream",
          "text": [
            "title: adult.data.csv, id: 1vXyexGiSLo9hKDmbmm4tsUvIioKeuW-M\n",
            "downloading to /root/data/adult.data.csv\n"
          ],
          "name": "stdout"
        }
      ]
    },
    {
      "cell_type": "code",
      "metadata": {
        "id": "h-7N8D8YxAlO",
        "colab_type": "code",
        "colab": {}
      },
      "source": [
        "!pip install -U pandasql"
      ],
      "execution_count": 0,
      "outputs": []
    },
    {
      "cell_type": "code",
      "metadata": {
        "colab_type": "code",
        "id": "I35_gUqDVp88",
        "colab": {}
      },
      "source": [
        "import numpy as np\n",
        "import pandas as pd\n",
        "import seaborn as sns\n",
        "import matplotlib.pyplot as plt\n",
        "import pandasql as ps\n",
        "%matplotlib inline \n",
        "sns.set(style=\"ticks\")\n",
        "import warnings\n",
        "warnings.filterwarnings('ignore')"
      ],
      "execution_count": 0,
      "outputs": []
    },
    {
      "cell_type": "code",
      "metadata": {
        "colab_type": "code",
        "id": "yAODNAFmVzzJ",
        "outputId": "0ab12bfb-ef52-4276-be60-6845705f12cc",
        "colab": {
          "base_uri": "https://localhost:8080/",
          "height": 204
        }
      },
      "source": [
        "data = pd.read_csv(fname, sep=\",\")\n",
        "data.head()"
      ],
      "execution_count": 0,
      "outputs": [
        {
          "output_type": "execute_result",
          "data": {
            "text/html": [
              "<div>\n",
              "<style scoped>\n",
              "    .dataframe tbody tr th:only-of-type {\n",
              "        vertical-align: middle;\n",
              "    }\n",
              "\n",
              "    .dataframe tbody tr th {\n",
              "        vertical-align: top;\n",
              "    }\n",
              "\n",
              "    .dataframe thead th {\n",
              "        text-align: right;\n",
              "    }\n",
              "</style>\n",
              "<table border=\"1\" class=\"dataframe\">\n",
              "  <thead>\n",
              "    <tr style=\"text-align: right;\">\n",
              "      <th></th>\n",
              "      <th>age</th>\n",
              "      <th>workclass</th>\n",
              "      <th>fnlwgt</th>\n",
              "      <th>education</th>\n",
              "      <th>education-num</th>\n",
              "      <th>marital-status</th>\n",
              "      <th>occupation</th>\n",
              "      <th>relationship</th>\n",
              "      <th>race</th>\n",
              "      <th>sex</th>\n",
              "      <th>capital-gain</th>\n",
              "      <th>capital-loss</th>\n",
              "      <th>hours-per-week</th>\n",
              "      <th>native-country</th>\n",
              "      <th>salary</th>\n",
              "    </tr>\n",
              "  </thead>\n",
              "  <tbody>\n",
              "    <tr>\n",
              "      <th>0</th>\n",
              "      <td>39</td>\n",
              "      <td>State-gov</td>\n",
              "      <td>77516</td>\n",
              "      <td>Bachelors</td>\n",
              "      <td>13</td>\n",
              "      <td>Never-married</td>\n",
              "      <td>Adm-clerical</td>\n",
              "      <td>Not-in-family</td>\n",
              "      <td>White</td>\n",
              "      <td>Male</td>\n",
              "      <td>2174</td>\n",
              "      <td>0</td>\n",
              "      <td>40</td>\n",
              "      <td>United-States</td>\n",
              "      <td>&lt;=50K</td>\n",
              "    </tr>\n",
              "    <tr>\n",
              "      <th>1</th>\n",
              "      <td>50</td>\n",
              "      <td>Self-emp-not-inc</td>\n",
              "      <td>83311</td>\n",
              "      <td>Bachelors</td>\n",
              "      <td>13</td>\n",
              "      <td>Married-civ-spouse</td>\n",
              "      <td>Exec-managerial</td>\n",
              "      <td>Husband</td>\n",
              "      <td>White</td>\n",
              "      <td>Male</td>\n",
              "      <td>0</td>\n",
              "      <td>0</td>\n",
              "      <td>13</td>\n",
              "      <td>United-States</td>\n",
              "      <td>&lt;=50K</td>\n",
              "    </tr>\n",
              "    <tr>\n",
              "      <th>2</th>\n",
              "      <td>38</td>\n",
              "      <td>Private</td>\n",
              "      <td>215646</td>\n",
              "      <td>HS-grad</td>\n",
              "      <td>9</td>\n",
              "      <td>Divorced</td>\n",
              "      <td>Handlers-cleaners</td>\n",
              "      <td>Not-in-family</td>\n",
              "      <td>White</td>\n",
              "      <td>Male</td>\n",
              "      <td>0</td>\n",
              "      <td>0</td>\n",
              "      <td>40</td>\n",
              "      <td>United-States</td>\n",
              "      <td>&lt;=50K</td>\n",
              "    </tr>\n",
              "    <tr>\n",
              "      <th>3</th>\n",
              "      <td>53</td>\n",
              "      <td>Private</td>\n",
              "      <td>234721</td>\n",
              "      <td>11th</td>\n",
              "      <td>7</td>\n",
              "      <td>Married-civ-spouse</td>\n",
              "      <td>Handlers-cleaners</td>\n",
              "      <td>Husband</td>\n",
              "      <td>Black</td>\n",
              "      <td>Male</td>\n",
              "      <td>0</td>\n",
              "      <td>0</td>\n",
              "      <td>40</td>\n",
              "      <td>United-States</td>\n",
              "      <td>&lt;=50K</td>\n",
              "    </tr>\n",
              "    <tr>\n",
              "      <th>4</th>\n",
              "      <td>28</td>\n",
              "      <td>Private</td>\n",
              "      <td>338409</td>\n",
              "      <td>Bachelors</td>\n",
              "      <td>13</td>\n",
              "      <td>Married-civ-spouse</td>\n",
              "      <td>Prof-specialty</td>\n",
              "      <td>Wife</td>\n",
              "      <td>Black</td>\n",
              "      <td>Female</td>\n",
              "      <td>0</td>\n",
              "      <td>0</td>\n",
              "      <td>40</td>\n",
              "      <td>Cuba</td>\n",
              "      <td>&lt;=50K</td>\n",
              "    </tr>\n",
              "  </tbody>\n",
              "</table>\n",
              "</div>"
            ],
            "text/plain": [
              "   age         workclass  fnlwgt  education  education-num  \\\n",
              "0   39         State-gov   77516  Bachelors             13   \n",
              "1   50  Self-emp-not-inc   83311  Bachelors             13   \n",
              "2   38           Private  215646    HS-grad              9   \n",
              "3   53           Private  234721       11th              7   \n",
              "4   28           Private  338409  Bachelors             13   \n",
              "\n",
              "       marital-status         occupation   relationship   race     sex  \\\n",
              "0       Never-married       Adm-clerical  Not-in-family  White    Male   \n",
              "1  Married-civ-spouse    Exec-managerial        Husband  White    Male   \n",
              "2            Divorced  Handlers-cleaners  Not-in-family  White    Male   \n",
              "3  Married-civ-spouse  Handlers-cleaners        Husband  Black    Male   \n",
              "4  Married-civ-spouse     Prof-specialty           Wife  Black  Female   \n",
              "\n",
              "   capital-gain  capital-loss  hours-per-week native-country salary  \n",
              "0          2174             0              40  United-States  <=50K  \n",
              "1             0             0              13  United-States  <=50K  \n",
              "2             0             0              40  United-States  <=50K  \n",
              "3             0             0              40  United-States  <=50K  \n",
              "4             0             0              40           Cuba  <=50K  "
            ]
          },
          "metadata": {
            "tags": []
          },
          "execution_count": 46
        }
      ]
    },
    {
      "cell_type": "markdown",
      "metadata": {
        "colab_type": "text",
        "id": "OFJFTtG8YJ0o"
      },
      "source": [
        "* Сколько мужчин и женщин представлено в этом наборе данных?"
      ]
    },
    {
      "cell_type": "code",
      "metadata": {
        "colab_type": "code",
        "id": "23VbhHJDWlGG",
        "outputId": "7e1950c7-224b-4663-a49e-4ccdc6b306f0",
        "colab": {
          "base_uri": "https://localhost:8080/",
          "height": 68
        }
      },
      "source": [
        "data['sex'].value_counts()"
      ],
      "execution_count": 0,
      "outputs": [
        {
          "output_type": "execute_result",
          "data": {
            "text/plain": [
              "Male      21790\n",
              "Female    10771\n",
              "Name: sex, dtype: int64"
            ]
          },
          "metadata": {
            "tags": []
          },
          "execution_count": 47
        }
      ]
    },
    {
      "cell_type": "markdown",
      "metadata": {
        "colab_type": "text",
        "id": "PR4dAF4hcBn5"
      },
      "source": [
        "* Каков средний возраст женщины?"
      ]
    },
    {
      "cell_type": "code",
      "metadata": {
        "colab_type": "code",
        "id": "0cu-ltB6YPRI",
        "outputId": "7c6ed498-07d1-48e9-fb6a-51518353338a",
        "colab": {
          "base_uri": "https://localhost:8080/",
          "height": 34
        }
      },
      "source": [
        "mean_age = data.loc[data['sex'] == 'Female', 'age'].mean()\n",
        "print(\"Average age of women: {0}\".format(round(mean_age, 2)))"
      ],
      "execution_count": 0,
      "outputs": [
        {
          "output_type": "stream",
          "text": [
            "Average age of women: 36.86\n"
          ],
          "name": "stdout"
        }
      ]
    },
    {
      "cell_type": "markdown",
      "metadata": {
        "colab_type": "text",
        "id": "VeXXK4Dhd41M"
      },
      "source": [
        "* Какой процент граждан из Германии?"
      ]
    },
    {
      "cell_type": "code",
      "metadata": {
        "colab_type": "code",
        "id": "f7sx7LYncnZu",
        "outputId": "4b1379cd-69b1-449f-c7af-0ce71e2fe26d",
        "colab": {
          "base_uri": "https://localhost:8080/",
          "height": 34
        }
      },
      "source": [
        "data.loc[data['native-country'] == 'Germany'].shape[0] / data.shape[0]"
      ],
      "execution_count": 0,
      "outputs": [
        {
          "output_type": "execute_result",
          "data": {
            "text/plain": [
              "0.004207487485028101"
            ]
          },
          "metadata": {
            "tags": []
          },
          "execution_count": 61
        }
      ]
    },
    {
      "cell_type": "markdown",
      "metadata": {
        "colab_type": "text",
        "id": "A7JiBde9fKdy"
      },
      "source": [
        "* Каково среднее и стандартное отклонение возраста для тех, кто зарабатывает более 50 тысяч в год и тех, кто зарабатывает менее 50 тысяч в год?"
      ]
    },
    {
      "cell_type": "code",
      "metadata": {
        "colab_type": "code",
        "id": "7LvKzD0reB8z",
        "outputId": "e914bf0c-db43-46b9-f3d1-93e1ba8cc68e",
        "colab": {
          "base_uri": "https://localhost:8080/",
          "height": 51
        }
      },
      "source": [
        "more_than_fifty = data.loc[data['salary'] == '>50K', 'age']\n",
        "less_than_fifty = data.loc[data['salary'] == '<=50K', 'age']\n",
        "\n",
        "print(\"Average age of >50K: {0} +- {1}\".format(round(more_than_fifty.mean()),\n",
        "                                               round(more_than_fifty.std(), 2)))\n",
        "print(\"Average age of >50K: {0} +- {1}\".format(round(less_than_fifty.mean()),\n",
        "                                               round(less_than_fifty.std(), 2)))"
      ],
      "execution_count": 0,
      "outputs": [
        {
          "output_type": "stream",
          "text": [
            "Average age of >50K: 44 +- 10.52\n",
            "Average age of >50K: 37 +- 14.02\n"
          ],
          "name": "stdout"
        }
      ]
    },
    {
      "cell_type": "markdown",
      "metadata": {
        "colab_type": "text",
        "id": "2DgEs7Zsgwui"
      },
      "source": [
        "* Правда ли, что люди, которые зарабатывают более 50 тысяч, имеют хотя бы среднее образование?"
      ]
    },
    {
      "cell_type": "code",
      "metadata": {
        "colab_type": "code",
        "id": "PRkQtiQufuQ2",
        "outputId": "564d6f55-a2f9-48ff-fa08-e5638df2e836",
        "colab": {
          "base_uri": "https://localhost:8080/",
          "height": 68
        }
      },
      "source": [
        "data.loc[data['salary'] == '>50K', 'education'].unique()"
      ],
      "execution_count": 0,
      "outputs": [
        {
          "output_type": "execute_result",
          "data": {
            "text/plain": [
              "array(['HS-grad', 'Masters', 'Bachelors', 'Some-college', 'Assoc-voc',\n",
              "       'Doctorate', 'Prof-school', 'Assoc-acdm', '7th-8th', '12th',\n",
              "       '10th', '11th', '9th', '5th-6th', '1st-4th'], dtype=object)"
            ]
          },
          "metadata": {
            "tags": []
          },
          "execution_count": 67
        }
      ]
    },
    {
      "cell_type": "markdown",
      "metadata": {
        "colab_type": "text",
        "id": "3T3gbGM9hMYN"
      },
      "source": [
        "Следовательно, это утверждение неверно"
      ]
    },
    {
      "cell_type": "markdown",
      "metadata": {
        "colab_type": "text",
        "id": "YvZ2kKVlhbBI"
      },
      "source": [
        "* Отображение статистики по возрасту для каждой расы и каждого пола. Используйте groupby() и describe(). Найти максимальный возраст мужчин американо-индийско-эскимосской расы."
      ]
    },
    {
      "cell_type": "code",
      "metadata": {
        "colab_type": "code",
        "id": "PVSOLlAihIOD",
        "outputId": "e11f9451-1eaf-4ec6-b517-ff65e2765194",
        "colab": {
          "base_uri": "https://localhost:8080/",
          "height": 1887
        }
      },
      "source": [
        "for (race, sex), sub_data in data.groupby(['race', 'sex']):\n",
        "    print(\"Race: {0}, sex: {1}\".format(race, sex))\n",
        "    print(sub_data['age'].describe())\n",
        "    print()"
      ],
      "execution_count": 0,
      "outputs": [
        {
          "output_type": "stream",
          "text": [
            "Race: Amer-Indian-Eskimo, sex: Female\n",
            "count    119.000000\n",
            "mean      37.117647\n",
            "std       13.114991\n",
            "min       17.000000\n",
            "25%       27.000000\n",
            "50%       36.000000\n",
            "75%       46.000000\n",
            "max       80.000000\n",
            "Name: age, dtype: float64\n",
            "\n",
            "Race: Amer-Indian-Eskimo, sex: Male\n",
            "count    192.000000\n",
            "mean      37.208333\n",
            "std       12.049563\n",
            "min       17.000000\n",
            "25%       28.000000\n",
            "50%       35.000000\n",
            "75%       45.000000\n",
            "max       82.000000\n",
            "Name: age, dtype: float64\n",
            "\n",
            "Race: Asian-Pac-Islander, sex: Female\n",
            "count    346.000000\n",
            "mean      35.089595\n",
            "std       12.300845\n",
            "min       17.000000\n",
            "25%       25.000000\n",
            "50%       33.000000\n",
            "75%       43.750000\n",
            "max       75.000000\n",
            "Name: age, dtype: float64\n",
            "\n",
            "Race: Asian-Pac-Islander, sex: Male\n",
            "count    693.000000\n",
            "mean      39.073593\n",
            "std       12.883944\n",
            "min       18.000000\n",
            "25%       29.000000\n",
            "50%       37.000000\n",
            "75%       46.000000\n",
            "max       90.000000\n",
            "Name: age, dtype: float64\n",
            "\n",
            "Race: Black, sex: Female\n",
            "count    1555.000000\n",
            "mean       37.854019\n",
            "std        12.637197\n",
            "min        17.000000\n",
            "25%        28.000000\n",
            "50%        37.000000\n",
            "75%        46.000000\n",
            "max        90.000000\n",
            "Name: age, dtype: float64\n",
            "\n",
            "Race: Black, sex: Male\n",
            "count    1569.000000\n",
            "mean       37.682600\n",
            "std        12.882612\n",
            "min        17.000000\n",
            "25%        27.000000\n",
            "50%        36.000000\n",
            "75%        46.000000\n",
            "max        90.000000\n",
            "Name: age, dtype: float64\n",
            "\n",
            "Race: Other, sex: Female\n",
            "count    109.000000\n",
            "mean      31.678899\n",
            "std       11.631599\n",
            "min       17.000000\n",
            "25%       23.000000\n",
            "50%       29.000000\n",
            "75%       39.000000\n",
            "max       74.000000\n",
            "Name: age, dtype: float64\n",
            "\n",
            "Race: Other, sex: Male\n",
            "count    162.000000\n",
            "mean      34.654321\n",
            "std       11.355531\n",
            "min       17.000000\n",
            "25%       26.000000\n",
            "50%       32.000000\n",
            "75%       42.000000\n",
            "max       77.000000\n",
            "Name: age, dtype: float64\n",
            "\n",
            "Race: White, sex: Female\n",
            "count    8642.000000\n",
            "mean       36.811618\n",
            "std        14.329093\n",
            "min        17.000000\n",
            "25%        25.000000\n",
            "50%        35.000000\n",
            "75%        46.000000\n",
            "max        90.000000\n",
            "Name: age, dtype: float64\n",
            "\n",
            "Race: White, sex: Male\n",
            "count    19174.000000\n",
            "mean        39.652498\n",
            "std         13.436029\n",
            "min         17.000000\n",
            "25%         29.000000\n",
            "50%         38.000000\n",
            "75%         49.000000\n",
            "max         90.000000\n",
            "Name: age, dtype: float64\n",
            "\n"
          ],
          "name": "stdout"
        }
      ]
    },
    {
      "cell_type": "code",
      "metadata": {
        "colab_type": "code",
        "id": "qGqVvrYdhmzy",
        "outputId": "cfab3fcc-36ca-4a6f-94e0-0f8908e9a9d2",
        "colab": {
          "base_uri": "https://localhost:8080/",
          "height": 34
        }
      },
      "source": [
        "grouped_data = data.groupby(['race', 'sex'])\n",
        "print(\"Максимальный возраст мужчин расы Amer-Indian-Eskimo: {0}\"\n",
        "      .format(grouped_data.get_group(('Amer-Indian-Eskimo','Male'))['age'].max(0)))"
      ],
      "execution_count": 0,
      "outputs": [
        {
          "output_type": "stream",
          "text": [
            "Максимальный возраст мужчин расы Amer-Indian-Eskimo: 82\n"
          ],
          "name": "stdout"
        }
      ]
    },
    {
      "cell_type": "markdown",
      "metadata": {
        "colab_type": "text",
        "id": "STiD5WBtp2tz"
      },
      "source": [
        "* Среди кого больше доля тех, кто много зарабатывает (> 50 тыс.): замужние или одинокие мужчины? Считается, что в браке находятся те, кто имеет семейное положение Married-civ-spouse, Married-spouse-absent или Married-AF-spouse, остальные считаются холостяками."
      ]
    },
    {
      "cell_type": "code",
      "metadata": {
        "colab_type": "code",
        "id": "HN4pYjnuozT5",
        "outputId": "35607ad1-7a84-49f9-a0eb-f725c5a47ea4",
        "colab": {
          "base_uri": "https://localhost:8080/",
          "height": 51
        }
      },
      "source": [
        "married_salary_stat = data.loc[(data['sex'] == 'Male') & \n",
        "         (data['marital-status'].str.startswith('Married'))]\n",
        "male_married = married_salary_stat.shape[0]\n",
        "rich_married = married_salary_stat.loc[married_salary_stat['salary'] == '>50K'].shape[0]\n",
        "\n",
        "bachelors_salary_stat = data.loc[(data['sex'] == 'Male') & \n",
        "         ~(data['marital-status'].str.startswith('Married'))]\n",
        "male_bachelors = bachelors_salary_stat.shape[0]\n",
        "rich_bachelors = bachelors_salary_stat.loc[bachelors_salary_stat['salary'] == '>50K']\n",
        "                                      .shape[0]\n",
        "\n",
        "print(\"Доля женатых мужчин с заработком >50К: {0}%\"\n",
        "      .format(round(rich_married / male_married * 100, 2)))\n",
        "print(\"Доля холостяков с заработком >50К: {0}%\"\n",
        "      .format(round(rich_bachelors / male_bachelors * 100, 2)))"
      ],
      "execution_count": 0,
      "outputs": [
        {
          "output_type": "stream",
          "text": [
            "Доля женатых мужчин с заработком >50К: 44.05%\n",
            "Доля холостяков с заработком >50К: 8.45%\n"
          ],
          "name": "stdout"
        }
      ]
    },
    {
      "cell_type": "markdown",
      "metadata": {
        "colab_type": "text",
        "id": "9072FHuNyn64"
      },
      "source": [
        "* Какое максимальное количество часов работает человек в неделю? Сколько человек работает такое количество часов, и каков процент тех, кто зарабатывает много (> 50 тыс.) среди них?"
      ]
    },
    {
      "cell_type": "code",
      "metadata": {
        "colab_type": "code",
        "id": "JuwEEA0xqvJX",
        "outputId": "e874654e-1ce3-4489-8026-59d4e39d5d24",
        "colab": {
          "base_uri": "https://localhost:8080/",
          "height": 68
        }
      },
      "source": [
        "max_load = data['hours-per-week'].max()\n",
        "num_people_max_load = data[data['hours-per-week'] == max_load].shape[0]\n",
        "proportion = data.loc[(data['hours-per-week'] == max_load)\n",
        "                 & (data['salary'] == '>50K')].shape[0] / num_people_max_load * 100\n",
        "\n",
        "print(\"Максимальное количество рабочих часов в неделю: {0}\".format(max_load))\n",
        "print(\"Количество людей, работающих {0} часов в неделю: {1}\"\n",
        "      .format(max_load, num_people_max_load))\n",
        "print(\"Доля людей с большим заработком среди тех, кто работает {0} часов в неделю: {1}%\"\n",
        "     .format(max_load, round(proportion, 2)))"
      ],
      "execution_count": 0,
      "outputs": [
        {
          "output_type": "stream",
          "text": [
            "Максимальное количество рабочих часов в неделю: 99\n",
            "Количество людей, работающих 99 часов в неделю: 85\n",
            "Доля людей с большим заработком среди тех, кто работает 99 часов в неделю: 29.41%\n"
          ],
          "name": "stdout"
        }
      ]
    },
    {
      "cell_type": "code",
      "metadata": {
        "cellView": "code",
        "colab_type": "code",
        "id": "cJnUsxSiy0Js",
        "outputId": "64c55ad8-2e16-4506-bd0c-dbe321eb7ef3",
        "colab": {
          "base_uri": "https://localhost:8080/",
          "height": 208
        }
      },
      "source": [
        "pd.crosstab(data['native-country'], data['salary'], \n",
        "           values=data['hours-per-week'], aggfunc=np.mean).T"
      ],
      "execution_count": 0,
      "outputs": [
        {
          "output_type": "execute_result",
          "data": {
            "text/html": [
              "<div>\n",
              "<style scoped>\n",
              "    .dataframe tbody tr th:only-of-type {\n",
              "        vertical-align: middle;\n",
              "    }\n",
              "\n",
              "    .dataframe tbody tr th {\n",
              "        vertical-align: top;\n",
              "    }\n",
              "\n",
              "    .dataframe thead th {\n",
              "        text-align: right;\n",
              "    }\n",
              "</style>\n",
              "<table border=\"1\" class=\"dataframe\">\n",
              "  <thead>\n",
              "    <tr style=\"text-align: right;\">\n",
              "      <th>native-country</th>\n",
              "      <th>?</th>\n",
              "      <th>Cambodia</th>\n",
              "      <th>Canada</th>\n",
              "      <th>China</th>\n",
              "      <th>Columbia</th>\n",
              "      <th>Cuba</th>\n",
              "      <th>Dominican-Republic</th>\n",
              "      <th>Ecuador</th>\n",
              "      <th>El-Salvador</th>\n",
              "      <th>England</th>\n",
              "      <th>...</th>\n",
              "      <th>Portugal</th>\n",
              "      <th>Puerto-Rico</th>\n",
              "      <th>Scotland</th>\n",
              "      <th>South</th>\n",
              "      <th>Taiwan</th>\n",
              "      <th>Thailand</th>\n",
              "      <th>Trinadad&amp;Tobago</th>\n",
              "      <th>United-States</th>\n",
              "      <th>Vietnam</th>\n",
              "      <th>Yugoslavia</th>\n",
              "    </tr>\n",
              "    <tr>\n",
              "      <th>salary</th>\n",
              "      <th></th>\n",
              "      <th></th>\n",
              "      <th></th>\n",
              "      <th></th>\n",
              "      <th></th>\n",
              "      <th></th>\n",
              "      <th></th>\n",
              "      <th></th>\n",
              "      <th></th>\n",
              "      <th></th>\n",
              "      <th></th>\n",
              "      <th></th>\n",
              "      <th></th>\n",
              "      <th></th>\n",
              "      <th></th>\n",
              "      <th></th>\n",
              "      <th></th>\n",
              "      <th></th>\n",
              "      <th></th>\n",
              "      <th></th>\n",
              "      <th></th>\n",
              "    </tr>\n",
              "  </thead>\n",
              "  <tbody>\n",
              "    <tr>\n",
              "      <th>&lt;=50K</th>\n",
              "      <td>40.164760</td>\n",
              "      <td>41.416667</td>\n",
              "      <td>37.914634</td>\n",
              "      <td>37.381818</td>\n",
              "      <td>38.684211</td>\n",
              "      <td>37.985714</td>\n",
              "      <td>42.338235</td>\n",
              "      <td>38.041667</td>\n",
              "      <td>36.030928</td>\n",
              "      <td>40.483333</td>\n",
              "      <td>...</td>\n",
              "      <td>41.939394</td>\n",
              "      <td>38.470588</td>\n",
              "      <td>39.444444</td>\n",
              "      <td>40.15625</td>\n",
              "      <td>33.774194</td>\n",
              "      <td>42.866667</td>\n",
              "      <td>37.058824</td>\n",
              "      <td>38.799127</td>\n",
              "      <td>37.193548</td>\n",
              "      <td>41.6</td>\n",
              "    </tr>\n",
              "    <tr>\n",
              "      <th>&gt;50K</th>\n",
              "      <td>45.547945</td>\n",
              "      <td>40.000000</td>\n",
              "      <td>45.641026</td>\n",
              "      <td>38.900000</td>\n",
              "      <td>50.000000</td>\n",
              "      <td>42.440000</td>\n",
              "      <td>47.000000</td>\n",
              "      <td>48.750000</td>\n",
              "      <td>45.000000</td>\n",
              "      <td>44.533333</td>\n",
              "      <td>...</td>\n",
              "      <td>41.500000</td>\n",
              "      <td>39.416667</td>\n",
              "      <td>46.666667</td>\n",
              "      <td>51.43750</td>\n",
              "      <td>46.800000</td>\n",
              "      <td>58.333333</td>\n",
              "      <td>40.000000</td>\n",
              "      <td>45.505369</td>\n",
              "      <td>39.200000</td>\n",
              "      <td>49.5</td>\n",
              "    </tr>\n",
              "  </tbody>\n",
              "</table>\n",
              "<p>2 rows × 42 columns</p>\n",
              "</div>"
            ],
            "text/plain": [
              "native-country          ?   Cambodia     Canada      China   Columbia  \\\n",
              "salary                                                                  \n",
              "<=50K           40.164760  41.416667  37.914634  37.381818  38.684211   \n",
              ">50K            45.547945  40.000000  45.641026  38.900000  50.000000   \n",
              "\n",
              "native-country       Cuba  Dominican-Republic    Ecuador  El-Salvador  \\\n",
              "salary                                                                  \n",
              "<=50K           37.985714           42.338235  38.041667    36.030928   \n",
              ">50K            42.440000           47.000000  48.750000    45.000000   \n",
              "\n",
              "native-country    England     ...       Portugal  Puerto-Rico   Scotland  \\\n",
              "salary                        ...                                          \n",
              "<=50K           40.483333     ...      41.939394    38.470588  39.444444   \n",
              ">50K            44.533333     ...      41.500000    39.416667  46.666667   \n",
              "\n",
              "native-country     South     Taiwan   Thailand  Trinadad&Tobago  \\\n",
              "salary                                                            \n",
              "<=50K           40.15625  33.774194  42.866667        37.058824   \n",
              ">50K            51.43750  46.800000  58.333333        40.000000   \n",
              "\n",
              "native-country  United-States    Vietnam  Yugoslavia  \n",
              "salary                                                \n",
              "<=50K               38.799127  37.193548        41.6  \n",
              ">50K                45.505369  39.200000        49.5  \n",
              "\n",
              "[2 rows x 42 columns]"
            ]
          },
          "metadata": {
            "tags": []
          },
          "execution_count": 144
        }
      ]
    },
    {
      "cell_type": "markdown",
      "metadata": {
        "colab_type": "text",
        "id": "mvi3Jczp3__2"
      },
      "source": [
        "## Часть 2"
      ]
    },
    {
      "cell_type": "code",
      "metadata": {
        "colab_type": "code",
        "id": "OZlIRzC43QId",
        "colab": {}
      },
      "source": [
        "# After first 3 cells in part 1\n",
        "file_list = drive.ListFile(\n",
        "    {'q': \"title contains 'lab2_mlm_'\"}\n",
        ").GetList()"
      ],
      "execution_count": 0,
      "outputs": []
    },
    {
      "cell_type": "code",
      "metadata": {
        "colab_type": "code",
        "id": "2UTTNwqO8zha",
        "outputId": "1911be88-9269-449c-bbbf-749c845dede7",
        "colab": {
          "base_uri": "https://localhost:8080/",
          "height": 119
        }
      },
      "source": [
        "fnames = []\n",
        "for f in file_list:\n",
        "  # 3. Create & download by id.\n",
        "  print('title: %s, id: %s' % (f['title'], f['id']))\n",
        "  fnames.append(os.path.join(local_download_path, f['title']))\n",
        "  print('downloading to {0}[{1}]'.format(\"fnames\", len(fnames) - 1))\n",
        "  f_ = drive.CreateFile({'id': f['id']})\n",
        "  f_.GetContentFile(fnames[len(fnames) - 1])"
      ],
      "execution_count": 0,
      "outputs": [
        {
          "output_type": "stream",
          "text": [
            "title: lab2_mlm_android_devices.csv, id: 1bI3VlDPG2dcEKvgjbkvEKtk1ARk2o-lT\n",
            "downloading to fnames[0]\n",
            "title: lab2_mlm_user_usage.csv, id: 15nU307WimMU2i-rLDCHr7Ui3Kpcexrq0\n",
            "downloading to fnames[1]\n",
            "title: lab2_mlm_user_device.csv, id: 1lKGI6cKiSrsO7p1isuVoQWpWRhjwhwVF\n",
            "downloading to fnames[2]\n"
          ],
          "name": "stdout"
        }
      ]
    },
    {
      "cell_type": "code",
      "metadata": {
        "colab_type": "code",
        "id": "O_pggz_j9nIi",
        "outputId": "0affefc5-20ac-4649-c203-f538767542dc",
        "colab": {
          "base_uri": "https://localhost:8080/",
          "height": 204
        }
      },
      "source": [
        "android_devices = pd.read_csv(fnames[0], sep=\",\")\n",
        "android_devices.head()"
      ],
      "execution_count": 0,
      "outputs": [
        {
          "output_type": "execute_result",
          "data": {
            "text/html": [
              "<div>\n",
              "<style scoped>\n",
              "    .dataframe tbody tr th:only-of-type {\n",
              "        vertical-align: middle;\n",
              "    }\n",
              "\n",
              "    .dataframe tbody tr th {\n",
              "        vertical-align: top;\n",
              "    }\n",
              "\n",
              "    .dataframe thead th {\n",
              "        text-align: right;\n",
              "    }\n",
              "</style>\n",
              "<table border=\"1\" class=\"dataframe\">\n",
              "  <thead>\n",
              "    <tr style=\"text-align: right;\">\n",
              "      <th></th>\n",
              "      <th>Retail Branding</th>\n",
              "      <th>Marketing Name</th>\n",
              "      <th>Device</th>\n",
              "      <th>Model</th>\n",
              "    </tr>\n",
              "  </thead>\n",
              "  <tbody>\n",
              "    <tr>\n",
              "      <th>0</th>\n",
              "      <td>NaN</td>\n",
              "      <td>NaN</td>\n",
              "      <td>AD681H</td>\n",
              "      <td>Smartfren Andromax AD681H</td>\n",
              "    </tr>\n",
              "    <tr>\n",
              "      <th>1</th>\n",
              "      <td>NaN</td>\n",
              "      <td>NaN</td>\n",
              "      <td>FJL21</td>\n",
              "      <td>FJL21</td>\n",
              "    </tr>\n",
              "    <tr>\n",
              "      <th>2</th>\n",
              "      <td>NaN</td>\n",
              "      <td>NaN</td>\n",
              "      <td>T31</td>\n",
              "      <td>Panasonic T31</td>\n",
              "    </tr>\n",
              "    <tr>\n",
              "      <th>3</th>\n",
              "      <td>NaN</td>\n",
              "      <td>NaN</td>\n",
              "      <td>hws7721g</td>\n",
              "      <td>MediaPad 7 Youth 2</td>\n",
              "    </tr>\n",
              "    <tr>\n",
              "      <th>4</th>\n",
              "      <td>3Q</td>\n",
              "      <td>OC1020A</td>\n",
              "      <td>OC1020A</td>\n",
              "      <td>OC1020A</td>\n",
              "    </tr>\n",
              "  </tbody>\n",
              "</table>\n",
              "</div>"
            ],
            "text/plain": [
              "  Retail Branding Marketing Name    Device                      Model\n",
              "0             NaN            NaN    AD681H  Smartfren Andromax AD681H\n",
              "1             NaN            NaN     FJL21                      FJL21\n",
              "2             NaN            NaN       T31              Panasonic T31\n",
              "3             NaN            NaN  hws7721g         MediaPad 7 Youth 2\n",
              "4              3Q        OC1020A   OC1020A                    OC1020A"
            ]
          },
          "metadata": {
            "tags": []
          },
          "execution_count": 31
        }
      ]
    },
    {
      "cell_type": "code",
      "metadata": {
        "colab_type": "code",
        "id": "BqURJzyCA0j1",
        "outputId": "b6b01670-7178-4a5c-842f-9f7887befc83",
        "colab": {
          "base_uri": "https://localhost:8080/",
          "height": 204
        }
      },
      "source": [
        "user_usage = pd.read_csv(fnames[1], sep=\",\")\n",
        "user_usage.head()"
      ],
      "execution_count": 0,
      "outputs": [
        {
          "output_type": "execute_result",
          "data": {
            "text/html": [
              "<div>\n",
              "<style scoped>\n",
              "    .dataframe tbody tr th:only-of-type {\n",
              "        vertical-align: middle;\n",
              "    }\n",
              "\n",
              "    .dataframe tbody tr th {\n",
              "        vertical-align: top;\n",
              "    }\n",
              "\n",
              "    .dataframe thead th {\n",
              "        text-align: right;\n",
              "    }\n",
              "</style>\n",
              "<table border=\"1\" class=\"dataframe\">\n",
              "  <thead>\n",
              "    <tr style=\"text-align: right;\">\n",
              "      <th></th>\n",
              "      <th>outgoing_mins_per_month</th>\n",
              "      <th>outgoing_sms_per_month</th>\n",
              "      <th>monthly_mb</th>\n",
              "      <th>use_id</th>\n",
              "    </tr>\n",
              "  </thead>\n",
              "  <tbody>\n",
              "    <tr>\n",
              "      <th>0</th>\n",
              "      <td>21.97</td>\n",
              "      <td>4.82</td>\n",
              "      <td>1557.33</td>\n",
              "      <td>22787</td>\n",
              "    </tr>\n",
              "    <tr>\n",
              "      <th>1</th>\n",
              "      <td>1710.08</td>\n",
              "      <td>136.88</td>\n",
              "      <td>7267.55</td>\n",
              "      <td>22788</td>\n",
              "    </tr>\n",
              "    <tr>\n",
              "      <th>2</th>\n",
              "      <td>1710.08</td>\n",
              "      <td>136.88</td>\n",
              "      <td>7267.55</td>\n",
              "      <td>22789</td>\n",
              "    </tr>\n",
              "    <tr>\n",
              "      <th>3</th>\n",
              "      <td>94.46</td>\n",
              "      <td>35.17</td>\n",
              "      <td>519.12</td>\n",
              "      <td>22790</td>\n",
              "    </tr>\n",
              "    <tr>\n",
              "      <th>4</th>\n",
              "      <td>71.59</td>\n",
              "      <td>79.26</td>\n",
              "      <td>1557.33</td>\n",
              "      <td>22792</td>\n",
              "    </tr>\n",
              "  </tbody>\n",
              "</table>\n",
              "</div>"
            ],
            "text/plain": [
              "   outgoing_mins_per_month  outgoing_sms_per_month  monthly_mb  use_id\n",
              "0                    21.97                    4.82     1557.33   22787\n",
              "1                  1710.08                  136.88     7267.55   22788\n",
              "2                  1710.08                  136.88     7267.55   22789\n",
              "3                    94.46                   35.17      519.12   22790\n",
              "4                    71.59                   79.26     1557.33   22792"
            ]
          },
          "metadata": {
            "tags": []
          },
          "execution_count": 35
        }
      ]
    },
    {
      "cell_type": "code",
      "metadata": {
        "colab_type": "code",
        "id": "rL36uNRIRh4C",
        "outputId": "04104fa5-4ab5-45a4-fac1-211ed26f6eca",
        "colab": {
          "base_uri": "https://localhost:8080/",
          "height": 204
        }
      },
      "source": [
        "user_device = pd.read_csv(fnames[2], sep=\",\")\n",
        "user_device.head()"
      ],
      "execution_count": 0,
      "outputs": [
        {
          "output_type": "execute_result",
          "data": {
            "text/html": [
              "<div>\n",
              "<style scoped>\n",
              "    .dataframe tbody tr th:only-of-type {\n",
              "        vertical-align: middle;\n",
              "    }\n",
              "\n",
              "    .dataframe tbody tr th {\n",
              "        vertical-align: top;\n",
              "    }\n",
              "\n",
              "    .dataframe thead th {\n",
              "        text-align: right;\n",
              "    }\n",
              "</style>\n",
              "<table border=\"1\" class=\"dataframe\">\n",
              "  <thead>\n",
              "    <tr style=\"text-align: right;\">\n",
              "      <th></th>\n",
              "      <th>use_id</th>\n",
              "      <th>user_id</th>\n",
              "      <th>platform</th>\n",
              "      <th>platform_version</th>\n",
              "      <th>device</th>\n",
              "      <th>use_type_id</th>\n",
              "    </tr>\n",
              "  </thead>\n",
              "  <tbody>\n",
              "    <tr>\n",
              "      <th>0</th>\n",
              "      <td>22782</td>\n",
              "      <td>26980</td>\n",
              "      <td>ios</td>\n",
              "      <td>10.2</td>\n",
              "      <td>iPhone7,2</td>\n",
              "      <td>2</td>\n",
              "    </tr>\n",
              "    <tr>\n",
              "      <th>1</th>\n",
              "      <td>22783</td>\n",
              "      <td>29628</td>\n",
              "      <td>android</td>\n",
              "      <td>6.0</td>\n",
              "      <td>Nexus 5</td>\n",
              "      <td>3</td>\n",
              "    </tr>\n",
              "    <tr>\n",
              "      <th>2</th>\n",
              "      <td>22784</td>\n",
              "      <td>28473</td>\n",
              "      <td>android</td>\n",
              "      <td>5.1</td>\n",
              "      <td>SM-G903F</td>\n",
              "      <td>1</td>\n",
              "    </tr>\n",
              "    <tr>\n",
              "      <th>3</th>\n",
              "      <td>22785</td>\n",
              "      <td>15200</td>\n",
              "      <td>ios</td>\n",
              "      <td>10.2</td>\n",
              "      <td>iPhone7,2</td>\n",
              "      <td>3</td>\n",
              "    </tr>\n",
              "    <tr>\n",
              "      <th>4</th>\n",
              "      <td>22786</td>\n",
              "      <td>28239</td>\n",
              "      <td>android</td>\n",
              "      <td>6.0</td>\n",
              "      <td>ONE E1003</td>\n",
              "      <td>1</td>\n",
              "    </tr>\n",
              "  </tbody>\n",
              "</table>\n",
              "</div>"
            ],
            "text/plain": [
              "   use_id  user_id platform  platform_version     device  use_type_id\n",
              "0   22782    26980      ios              10.2  iPhone7,2            2\n",
              "1   22783    29628  android               6.0    Nexus 5            3\n",
              "2   22784    28473  android               5.1   SM-G903F            1\n",
              "3   22785    15200      ios              10.2  iPhone7,2            3\n",
              "4   22786    28239  android               6.0  ONE E1003            1"
            ]
          },
          "metadata": {
            "tags": []
          },
          "execution_count": 36
        }
      ]
    },
    {
      "cell_type": "markdown",
      "metadata": {
        "colab_type": "text",
        "id": "FwhCv_13TI9e"
      },
      "source": [
        "### Произвольный запрос на соединение двух наборов данных"
      ]
    },
    {
      "cell_type": "markdown",
      "metadata": {
        "colab_type": "text",
        "id": "l8O_zomtTTOT"
      },
      "source": [
        "* Pandas"
      ]
    },
    {
      "cell_type": "code",
      "metadata": {
        "colab_type": "code",
        "id": "cWjcvfRwA_WE",
        "colab": {}
      },
      "source": [
        "def join_pandas(user_usage, user_device):\n",
        "  joined = pd.merge(user_usage,\n",
        "                    user_device[['use_id', 'platform', 'device']],\n",
        "                    on='use_id')\n",
        "  return joined"
      ],
      "execution_count": 0,
      "outputs": []
    },
    {
      "cell_type": "code",
      "metadata": {
        "colab_type": "code",
        "id": "nxqmS2pmct6_",
        "outputId": "251972e0-b29c-4ef6-a7a1-d8f6ad9c7334",
        "colab": {
          "base_uri": "https://localhost:8080/",
          "height": 221
        }
      },
      "source": [
        "result = join_pandas(user_usage, user_device)\n",
        "print(\"{0} записей\".format(result.shape[0]))\n",
        "result.head()"
      ],
      "execution_count": 0,
      "outputs": [
        {
          "output_type": "stream",
          "text": [
            "159 записей\n"
          ],
          "name": "stdout"
        },
        {
          "output_type": "execute_result",
          "data": {
            "text/html": [
              "<div>\n",
              "<style scoped>\n",
              "    .dataframe tbody tr th:only-of-type {\n",
              "        vertical-align: middle;\n",
              "    }\n",
              "\n",
              "    .dataframe tbody tr th {\n",
              "        vertical-align: top;\n",
              "    }\n",
              "\n",
              "    .dataframe thead th {\n",
              "        text-align: right;\n",
              "    }\n",
              "</style>\n",
              "<table border=\"1\" class=\"dataframe\">\n",
              "  <thead>\n",
              "    <tr style=\"text-align: right;\">\n",
              "      <th></th>\n",
              "      <th>outgoing_mins_per_month</th>\n",
              "      <th>outgoing_sms_per_month</th>\n",
              "      <th>monthly_mb</th>\n",
              "      <th>use_id</th>\n",
              "      <th>platform</th>\n",
              "      <th>device</th>\n",
              "    </tr>\n",
              "  </thead>\n",
              "  <tbody>\n",
              "    <tr>\n",
              "      <th>0</th>\n",
              "      <td>21.97</td>\n",
              "      <td>4.82</td>\n",
              "      <td>1557.33</td>\n",
              "      <td>22787</td>\n",
              "      <td>android</td>\n",
              "      <td>GT-I9505</td>\n",
              "    </tr>\n",
              "    <tr>\n",
              "      <th>1</th>\n",
              "      <td>1710.08</td>\n",
              "      <td>136.88</td>\n",
              "      <td>7267.55</td>\n",
              "      <td>22788</td>\n",
              "      <td>android</td>\n",
              "      <td>SM-G930F</td>\n",
              "    </tr>\n",
              "    <tr>\n",
              "      <th>2</th>\n",
              "      <td>1710.08</td>\n",
              "      <td>136.88</td>\n",
              "      <td>7267.55</td>\n",
              "      <td>22789</td>\n",
              "      <td>android</td>\n",
              "      <td>SM-G930F</td>\n",
              "    </tr>\n",
              "    <tr>\n",
              "      <th>3</th>\n",
              "      <td>94.46</td>\n",
              "      <td>35.17</td>\n",
              "      <td>519.12</td>\n",
              "      <td>22790</td>\n",
              "      <td>android</td>\n",
              "      <td>D2303</td>\n",
              "    </tr>\n",
              "    <tr>\n",
              "      <th>4</th>\n",
              "      <td>71.59</td>\n",
              "      <td>79.26</td>\n",
              "      <td>1557.33</td>\n",
              "      <td>22792</td>\n",
              "      <td>android</td>\n",
              "      <td>SM-G361F</td>\n",
              "    </tr>\n",
              "  </tbody>\n",
              "</table>\n",
              "</div>"
            ],
            "text/plain": [
              "   outgoing_mins_per_month  outgoing_sms_per_month  monthly_mb  use_id  \\\n",
              "0                    21.97                    4.82     1557.33   22787   \n",
              "1                  1710.08                  136.88     7267.55   22788   \n",
              "2                  1710.08                  136.88     7267.55   22789   \n",
              "3                    94.46                   35.17      519.12   22790   \n",
              "4                    71.59                   79.26     1557.33   22792   \n",
              "\n",
              "  platform    device  \n",
              "0  android  GT-I9505  \n",
              "1  android  SM-G930F  \n",
              "2  android  SM-G930F  \n",
              "3  android     D2303  \n",
              "4  android  SM-G361F  "
            ]
          },
          "metadata": {
            "tags": []
          },
          "execution_count": 67
        }
      ]
    },
    {
      "cell_type": "markdown",
      "metadata": {
        "colab_type": "text",
        "id": "KhzVIBA1TY_i"
      },
      "source": [
        "* PandaSQL"
      ]
    },
    {
      "cell_type": "code",
      "metadata": {
        "colab_type": "code",
        "id": "wd00CJDYJ18m",
        "colab": {}
      },
      "source": [
        "# PandaSQL can't find datasets without arguments\n",
        "def join_pandasql(user_usage, user_device):  \n",
        "  query = \"\"\"SELECT\n",
        "          use.*, dev.platform, dev.device\n",
        "       FROM\n",
        "          user_usage use\n",
        "       JOIN\n",
        "          user_device dev\n",
        "             ON use.use_id = dev.use_id;\"\"\"\n",
        "\n",
        "  return ps.sqldf(query, locals())"
      ],
      "execution_count": 0,
      "outputs": []
    },
    {
      "cell_type": "code",
      "metadata": {
        "colab_type": "code",
        "id": "6s4hc2snc_SB",
        "outputId": "94c8afe5-4774-41fd-cba1-1a8fcd225681",
        "colab": {
          "base_uri": "https://localhost:8080/",
          "height": 221
        }
      },
      "source": [
        "result = join_pandasql(user_usage, user_device)\n",
        "print(\"{0} записей\".format(result.shape[0]))\n",
        "result.head()"
      ],
      "execution_count": 0,
      "outputs": [
        {
          "output_type": "stream",
          "text": [
            "159 записей\n"
          ],
          "name": "stdout"
        },
        {
          "output_type": "execute_result",
          "data": {
            "text/html": [
              "<div>\n",
              "<style scoped>\n",
              "    .dataframe tbody tr th:only-of-type {\n",
              "        vertical-align: middle;\n",
              "    }\n",
              "\n",
              "    .dataframe tbody tr th {\n",
              "        vertical-align: top;\n",
              "    }\n",
              "\n",
              "    .dataframe thead th {\n",
              "        text-align: right;\n",
              "    }\n",
              "</style>\n",
              "<table border=\"1\" class=\"dataframe\">\n",
              "  <thead>\n",
              "    <tr style=\"text-align: right;\">\n",
              "      <th></th>\n",
              "      <th>outgoing_mins_per_month</th>\n",
              "      <th>outgoing_sms_per_month</th>\n",
              "      <th>monthly_mb</th>\n",
              "      <th>use_id</th>\n",
              "      <th>platform</th>\n",
              "      <th>device</th>\n",
              "    </tr>\n",
              "  </thead>\n",
              "  <tbody>\n",
              "    <tr>\n",
              "      <th>0</th>\n",
              "      <td>21.97</td>\n",
              "      <td>4.82</td>\n",
              "      <td>1557.33</td>\n",
              "      <td>22787</td>\n",
              "      <td>android</td>\n",
              "      <td>GT-I9505</td>\n",
              "    </tr>\n",
              "    <tr>\n",
              "      <th>1</th>\n",
              "      <td>1710.08</td>\n",
              "      <td>136.88</td>\n",
              "      <td>7267.55</td>\n",
              "      <td>22788</td>\n",
              "      <td>android</td>\n",
              "      <td>SM-G930F</td>\n",
              "    </tr>\n",
              "    <tr>\n",
              "      <th>2</th>\n",
              "      <td>1710.08</td>\n",
              "      <td>136.88</td>\n",
              "      <td>7267.55</td>\n",
              "      <td>22789</td>\n",
              "      <td>android</td>\n",
              "      <td>SM-G930F</td>\n",
              "    </tr>\n",
              "    <tr>\n",
              "      <th>3</th>\n",
              "      <td>94.46</td>\n",
              "      <td>35.17</td>\n",
              "      <td>519.12</td>\n",
              "      <td>22790</td>\n",
              "      <td>android</td>\n",
              "      <td>D2303</td>\n",
              "    </tr>\n",
              "    <tr>\n",
              "      <th>4</th>\n",
              "      <td>71.59</td>\n",
              "      <td>79.26</td>\n",
              "      <td>1557.33</td>\n",
              "      <td>22792</td>\n",
              "      <td>android</td>\n",
              "      <td>SM-G361F</td>\n",
              "    </tr>\n",
              "  </tbody>\n",
              "</table>\n",
              "</div>"
            ],
            "text/plain": [
              "   outgoing_mins_per_month  outgoing_sms_per_month  monthly_mb  use_id  \\\n",
              "0                    21.97                    4.82     1557.33   22787   \n",
              "1                  1710.08                  136.88     7267.55   22788   \n",
              "2                  1710.08                  136.88     7267.55   22789   \n",
              "3                    94.46                   35.17      519.12   22790   \n",
              "4                    71.59                   79.26     1557.33   22792   \n",
              "\n",
              "  platform    device  \n",
              "0  android  GT-I9505  \n",
              "1  android  SM-G930F  \n",
              "2  android  SM-G930F  \n",
              "3  android     D2303  \n",
              "4  android  SM-G361F  "
            ]
          },
          "metadata": {
            "tags": []
          },
          "execution_count": 65
        }
      ]
    },
    {
      "cell_type": "code",
      "metadata": {
        "colab_type": "code",
        "id": "m_jt96uoYCw3",
        "colab": {}
      },
      "source": [
        "import time\n",
        "\n",
        "def count_mean_time(func, params, N = 5):\n",
        "    total_time = 0\n",
        "    for i in range(N):\n",
        "        time1 = time.time()\n",
        "        if len(params) == 1:\n",
        "            tmp_df = func(params[0])\n",
        "        elif len(params) == 2:\n",
        "            tmp_df = func(params[0], params[1])\n",
        "        time2 = time.time()\n",
        "        total_time += (time2 - time1)\n",
        "    return total_time/N"
      ],
      "execution_count": 0,
      "outputs": []
    },
    {
      "cell_type": "markdown",
      "metadata": {
        "colab_type": "text",
        "id": "RfWXYN1FhcBe"
      },
      "source": [
        "* Оценка времени выполнения"
      ]
    },
    {
      "cell_type": "code",
      "metadata": {
        "colab_type": "code",
        "id": "r2KdFwO3eCi3",
        "outputId": "7effce33-c74a-463a-bdeb-b09ccb4b5acc",
        "colab": {
          "base_uri": "https://localhost:8080/",
          "height": 34
        }
      },
      "source": [
        "all_use_id = user_usage.use_id.unique().tolist()\n",
        "len(all_use_id)"
      ],
      "execution_count": 0,
      "outputs": [
        {
          "output_type": "execute_result",
          "data": {
            "text/plain": [
              "240"
            ]
          },
          "metadata": {
            "tags": []
          },
          "execution_count": 70
        }
      ]
    },
    {
      "cell_type": "code",
      "metadata": {
        "colab_type": "code",
        "id": "zQTGN69Zdy7s",
        "colab": {}
      },
      "source": [
        "join_times = []\n",
        "for use_id_count in range(5, 250, 5):\n",
        "    use_ids = all_use_id[:use_id_count]\n",
        "    user_usage_sample = user_usage[user_usage.use_id.isin(use_ids)]\n",
        "    user_device_sample = user_device[user_device.use_id.isin(use_ids)]\n",
        "    count = user_usage_sample.shape[0]\n",
        "    pandasql_time = count_mean_time(join_pandasql,\n",
        "                                    [user_usage_sample, user_device_sample])\n",
        "    pandas_time = count_mean_time(join_pandas,\n",
        "                                  [user_usage_sample, user_device_sample])\n",
        "    join_times.append({'count': count, \n",
        "                       'pandasql_time': pandasql_time, \n",
        "                       'pandas_time': pandas_time})"
      ],
      "execution_count": 0,
      "outputs": []
    },
    {
      "cell_type": "code",
      "metadata": {
        "colab_type": "code",
        "id": "4MLisN-Kfi6K",
        "colab": {}
      },
      "source": [
        "join_times_df = pd.DataFrame(join_times).set_index('count')"
      ],
      "execution_count": 0,
      "outputs": []
    },
    {
      "cell_type": "code",
      "metadata": {
        "colab_type": "code",
        "id": "FqxmfbI-fpFz",
        "outputId": "a6c69522-36e3-4cae-f702-0e76b892386a",
        "colab": {
          "base_uri": "https://localhost:8080/",
          "height": 399
        }
      },
      "source": [
        "ax = join_times_df.plot(title = 'Join query time elapsed')\n",
        "ax.set_xlabel('number of rows in user_usage')\n",
        "ax.set_ylabel('time, seconds')"
      ],
      "execution_count": 0,
      "outputs": [
        {
          "output_type": "execute_result",
          "data": {
            "text/plain": [
              "Text(0, 0.5, 'time, seconds')"
            ]
          },
          "metadata": {
            "tags": []
          },
          "execution_count": 77
        },
        {
          "output_type": "display_data",
          "data": {
            "image/png": "[encoded data removed]",
            "text/plain": [
              "<Figure size 576x396 with 1 Axes>"
            ]
          },
          "metadata": {
            "tags": []
          }
        }
      ]
    },
    {
      "cell_type": "markdown",
      "metadata": {
        "colab_type": "text",
        "id": "E_JRnn54hmjL"
      },
      "source": [
        "### Произвольный запрос на группировку набора данных с использованием функций агрегирования"
      ]
    },
    {
      "cell_type": "markdown",
      "metadata": {
        "colab_type": "text",
        "id": "q2SZbunEhtGp"
      },
      "source": [
        "* Pandas"
      ]
    },
    {
      "cell_type": "code",
      "metadata": {
        "colab_type": "code",
        "id": "b-R0Z7CmiV6L",
        "colab": {}
      },
      "source": [
        "def aggregation_pandas(result):\n",
        "  return result.groupby('platform', as_index=False)\n",
        "                        .agg({\"outgoing_sms_per_month\": \"mean\"})"
      ],
      "execution_count": 0,
      "outputs": []
    },
    {
      "cell_type": "code",
      "metadata": {
        "colab_type": "code",
        "id": "VLPrGOoqmBBC",
        "outputId": "198c02ee-ecdc-48c1-d0d3-a5ddb6f8d6b7",
        "colab": {
          "base_uri": "https://localhost:8080/",
          "height": 111
        }
      },
      "source": [
        "agg_result = aggregation_pandas(result)\n",
        "agg_result"
      ],
      "execution_count": 0,
      "outputs": [
        {
          "output_type": "execute_result",
          "data": {
            "text/html": [
              "<div>\n",
              "<style scoped>\n",
              "    .dataframe tbody tr th:only-of-type {\n",
              "        vertical-align: middle;\n",
              "    }\n",
              "\n",
              "    .dataframe tbody tr th {\n",
              "        vertical-align: top;\n",
              "    }\n",
              "\n",
              "    .dataframe thead th {\n",
              "        text-align: right;\n",
              "    }\n",
              "</style>\n",
              "<table border=\"1\" class=\"dataframe\">\n",
              "  <thead>\n",
              "    <tr style=\"text-align: right;\">\n",
              "      <th></th>\n",
              "      <th>platform</th>\n",
              "      <th>outgoing_sms_per_month</th>\n",
              "    </tr>\n",
              "  </thead>\n",
              "  <tbody>\n",
              "    <tr>\n",
              "      <th>0</th>\n",
              "      <td>android</td>\n",
              "      <td>85.354586</td>\n",
              "    </tr>\n",
              "    <tr>\n",
              "      <th>1</th>\n",
              "      <td>ios</td>\n",
              "      <td>293.975000</td>\n",
              "    </tr>\n",
              "  </tbody>\n",
              "</table>\n",
              "</div>"
            ],
            "text/plain": [
              "  platform  outgoing_sms_per_month\n",
              "0  android               85.354586\n",
              "1      ios              293.975000"
            ]
          },
          "metadata": {
            "tags": []
          },
          "execution_count": 100
        }
      ]
    },
    {
      "cell_type": "markdown",
      "metadata": {
        "colab_type": "text",
        "id": "5dNUnHbOlriZ"
      },
      "source": [
        "* PandaSQL"
      ]
    },
    {
      "cell_type": "code",
      "metadata": {
        "colab_type": "code",
        "id": "o5WMTbKtiroU",
        "colab": {}
      },
      "source": [
        "def aggregation_pandasql(result):\n",
        "  query = \"\"\"SELECT\n",
        "            platform, \n",
        "            AVG(outgoing_sms_per_month) AS outgoing_sms_per_month\n",
        "         FROM\n",
        "            result\n",
        "         GROUP BY platform;\n",
        "         \"\"\"\n",
        "\n",
        "  return ps.sqldf(query, locals())"
      ],
      "execution_count": 0,
      "outputs": []
    },
    {
      "cell_type": "code",
      "metadata": {
        "colab_type": "code",
        "id": "RprYnSCJjxuB",
        "outputId": "7f5c8366-cfd8-4745-8529-f59d90cbf405",
        "colab": {
          "base_uri": "https://localhost:8080/",
          "height": 111
        }
      },
      "source": [
        "agg_result = aggregation_pandasql(result)\n",
        "agg_result"
      ],
      "execution_count": 0,
      "outputs": [
        {
          "output_type": "execute_result",
          "data": {
            "text/html": [
              "<div>\n",
              "<style scoped>\n",
              "    .dataframe tbody tr th:only-of-type {\n",
              "        vertical-align: middle;\n",
              "    }\n",
              "\n",
              "    .dataframe tbody tr th {\n",
              "        vertical-align: top;\n",
              "    }\n",
              "\n",
              "    .dataframe thead th {\n",
              "        text-align: right;\n",
              "    }\n",
              "</style>\n",
              "<table border=\"1\" class=\"dataframe\">\n",
              "  <thead>\n",
              "    <tr style=\"text-align: right;\">\n",
              "      <th></th>\n",
              "      <th>platform</th>\n",
              "      <th>outgoing_sms_per_month</th>\n",
              "    </tr>\n",
              "  </thead>\n",
              "  <tbody>\n",
              "    <tr>\n",
              "      <th>0</th>\n",
              "      <td>android</td>\n",
              "      <td>85.354586</td>\n",
              "    </tr>\n",
              "    <tr>\n",
              "      <th>1</th>\n",
              "      <td>ios</td>\n",
              "      <td>293.975000</td>\n",
              "    </tr>\n",
              "  </tbody>\n",
              "</table>\n",
              "</div>"
            ],
            "text/plain": [
              "  platform  outgoing_sms_per_month\n",
              "0  android               85.354586\n",
              "1      ios              293.975000"
            ]
          },
          "metadata": {
            "tags": []
          },
          "execution_count": 102
        }
      ]
    },
    {
      "cell_type": "code",
      "metadata": {
        "colab_type": "code",
        "id": "iwFIqtqrmjjN",
        "colab": {}
      },
      "source": [
        "aggregation_times = []\n",
        "for count in range(2, 160, 2):\n",
        "    pandasql_time = count_mean_time(aggregation_pandasql, [result[:count]])\n",
        "    pandas_time = count_mean_time(aggregation_pandas, [result[:count]])\n",
        "    aggregation_times.append({'count': count,\n",
        "                              'pandasql_time': pandasql_time,\n",
        "                              'pandas_time': pandas_time})"
      ],
      "execution_count": 0,
      "outputs": []
    },
    {
      "cell_type": "code",
      "metadata": {
        "colab_type": "code",
        "id": "TSpkRhdpm3GC",
        "colab": {}
      },
      "source": [
        "aggregation_times_df = pd.DataFrame(aggregation_times)\n",
        "aggregation_times_df.columns = ['number of rows in result', \n",
        "                                'pandas time', \n",
        "                                'pandasql time']\n",
        "aggregation_times_df = aggregation_times_df.set_index('number of rows in result')"
      ],
      "execution_count": 0,
      "outputs": []
    },
    {
      "cell_type": "code",
      "metadata": {
        "colab_type": "code",
        "id": "1ZApXHk6nCNG",
        "outputId": "4fa001f2-1db4-4dda-f7d3-85c8fed0a4b2",
        "colab": {
          "base_uri": "https://localhost:8080/",
          "height": 384
        }
      },
      "source": [
        "ax = aggregation_times_df.plot(title = 'Aggregation time elapsed (seconds)', subplots = True)"
      ],
      "execution_count": 0,
      "outputs": [
        {
          "output_type": "display_data",
          "data": {
            "image/png": "[encoded data removed]",
            "text/plain": [
              "<Figure size 576x396 with 2 Axes>"
            ]
          },
          "metadata": {
            "tags": []
          }
        }
      ]
    },
    {
      "cell_type": "code",
      "metadata": {
        "colab_type": "code",
        "id": "A8CcpHqvnWOn",
        "colab": {}
      },
      "source": [
        ""
      ],
      "execution_count": 0,
      "outputs": []
    }
  ]
}