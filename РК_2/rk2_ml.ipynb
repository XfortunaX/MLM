{
  "nbformat": 4,
  "nbformat_minor": 0,
  "metadata": {
    "colab": {
      "name": "RK_2.ipynb",
      "version": "0.3.2",
      "provenance": [],
      "collapsed_sections": [],
      "toc_visible": true
    },
    "kernelspec": {
      "name": "python3",
      "display_name": "Python 3"
    }
  },
  "cells": [
    {
      "cell_type": "markdown",
      "metadata": {
        "id": "HdQo1d5-LW9L",
        "colab_type": "text"
      },
      "source": [
        "#Буклин С. В. ИУ5-21М\n"
      ]
    },
    {
      "cell_type": "markdown",
      "metadata": {
        "id": "-hz-NXoxbIu9",
        "colab_type": "text"
      },
      "source": [
        "# РК №2 по курсу \"Методы машинного обучения\"\n"
      ]
    },
    {
      "cell_type": "markdown",
      "metadata": {
        "id": "FVunOvf-bWso",
        "colab_type": "text"
      },
      "source": [
        "\n",
        "### Вариант №1. Классификация текстов на основе методов наивного Байеса\n",
        "\n",
        "*  Необходимо решить задачу классификации текстов на основе любого выбранного Вами датасета. Классификация может быть бинарной или многоклассовой. Целевой признак из выбранного Вами датасета может иметь любой физический смысл, примером является задача анализа тональности текста;\n",
        "*   Необходимо сформировать признаки на основе CountVectorizer или TfidfVectorizer.\n",
        "В качестве классификаторов необходимо использовать один из классификаторов, не относящихся к наивным Байесовским методам (например, LogisticRegression), а также Multinomial Naive Bayes (MNB), Complement Naive Bayes (CNB), Bernoulli Naive Bayes;\n",
        "*  Для каждого метода необходимо оценить качество классификации с помощью хотя бы одной метрики качества классификации (например, Accuracy);\n",
        "*  Сделате выводы о том, какой классификатор осуществляет более качественную классификацию на Вашем наборе данных.\n",
        "\n"
      ]
    },
    {
      "cell_type": "code",
      "metadata": {
        "id": "PKYzDMQfxQXM",
        "colab_type": "code",
        "outputId": "b777e699-e4f7-4396-8466-ee5ae899498d",
        "colab": {
          "base_uri": "https://localhost:8080/",
          "height": 35
        }
      },
      "source": [
        "from google.colab import drive\n",
        "drive.mount('/content/drive')"
      ],
      "execution_count": 0,
      "outputs": [
        {
          "output_type": "stream",
          "text": [
            "Drive already mounted at /content/drive; to attempt to forcibly remount, call drive.mount(\"/content/drive\", force_remount=True).\n"
          ],
          "name": "stdout"
        }
      ]
    },
    {
      "cell_type": "code",
      "metadata": {
        "id": "EdKxJ6B4zuys",
        "colab_type": "code",
        "colab": {}
      },
      "source": [
        "from google.colab import files\n",
        "import os\n",
        "import numpy as np\n",
        "import pandas as pd\n",
        "import matplotlib.pyplot as plt\n",
        "%matplotlib inline \n",
        "os.listdir()\n",
        "data = pd.read_csv('drive/My Drive/Colab Notebooks/AppleStore.csv', sep=\",\")"
      ],
      "execution_count": 0,
      "outputs": []
    },
    {
      "cell_type": "markdown",
      "metadata": {
        "id": "mD-AhQy5y1TP",
        "colab_type": "text"
      },
      "source": [
        "## Выбранный датасет"
      ]
    },
    {
      "cell_type": "markdown",
      "metadata": {
        "id": "8Z26l--706ef",
        "colab_type": "text"
      },
      "source": [
        "Датасет по приложениям в Apple Store"
      ]
    },
    {
      "cell_type": "markdown",
      "metadata": {
        "id": "hkbq7sPv5i6-",
        "colab_type": "text"
      },
      "source": [
        "## Предобработка датасета"
      ]
    },
    {
      "cell_type": "code",
      "metadata": {
        "id": "tLpEwrNKeqYq",
        "colab_type": "code",
        "outputId": "0c1a6af5-c691-4494-bac3-4d0da900fb1f",
        "colab": {
          "base_uri": "https://localhost:8080/",
          "height": 204
        }
      },
      "source": [
        "rating = data[['prime_genre', 'user_rating']]\n",
        "rating.head()"
      ],
      "execution_count": 26,
      "outputs": [
        {
          "output_type": "execute_result",
          "data": {
            "text/html": [
              "<div>\n",
              "<style scoped>\n",
              "    .dataframe tbody tr th:only-of-type {\n",
              "        vertical-align: middle;\n",
              "    }\n",
              "\n",
              "    .dataframe tbody tr th {\n",
              "        vertical-align: top;\n",
              "    }\n",
              "\n",
              "    .dataframe thead th {\n",
              "        text-align: right;\n",
              "    }\n",
              "</style>\n",
              "<table border=\"1\" class=\"dataframe\">\n",
              "  <thead>\n",
              "    <tr style=\"text-align: right;\">\n",
              "      <th></th>\n",
              "      <th>prime_genre</th>\n",
              "      <th>user_rating</th>\n",
              "    </tr>\n",
              "  </thead>\n",
              "  <tbody>\n",
              "    <tr>\n",
              "      <th>0</th>\n",
              "      <td>Games</td>\n",
              "      <td>4.0</td>\n",
              "    </tr>\n",
              "    <tr>\n",
              "      <th>1</th>\n",
              "      <td>Productivity</td>\n",
              "      <td>4.0</td>\n",
              "    </tr>\n",
              "    <tr>\n",
              "      <th>2</th>\n",
              "      <td>Weather</td>\n",
              "      <td>3.5</td>\n",
              "    </tr>\n",
              "    <tr>\n",
              "      <th>3</th>\n",
              "      <td>Shopping</td>\n",
              "      <td>4.0</td>\n",
              "    </tr>\n",
              "    <tr>\n",
              "      <th>4</th>\n",
              "      <td>Reference</td>\n",
              "      <td>4.5</td>\n",
              "    </tr>\n",
              "  </tbody>\n",
              "</table>\n",
              "</div>"
            ],
            "text/plain": [
              "    prime_genre  user_rating\n",
              "0         Games          4.0\n",
              "1  Productivity          4.0\n",
              "2       Weather          3.5\n",
              "3      Shopping          4.0\n",
              "4     Reference          4.5"
            ]
          },
          "metadata": {
            "tags": []
          },
          "execution_count": 26
        }
      ]
    },
    {
      "cell_type": "code",
      "metadata": {
        "id": "ViPOeucq1Xfo",
        "colab_type": "code",
        "outputId": "3f157582-b030-4bbd-db14-b12b4da4ba77",
        "colab": {
          "base_uri": "https://localhost:8080/",
          "height": 35
        }
      },
      "source": [
        "rating_cleaned = rating.dropna(axis=0, how='any')\n",
        "float_rating = rating_cleaned['user_rating']\n",
        "(rating.shape, rating_cleaned.shape)"
      ],
      "execution_count": 27,
      "outputs": [
        {
          "output_type": "execute_result",
          "data": {
            "text/plain": [
              "((7197, 2), (7197, 2))"
            ]
          },
          "metadata": {
            "tags": []
          },
          "execution_count": 27
        }
      ]
    },
    {
      "cell_type": "code",
      "metadata": {
        "id": "_GUI2FEKi8Ex",
        "colab_type": "code",
        "outputId": "5d322606-18d0-4745-b3f2-0cf98db60d8f",
        "colab": {
          "base_uri": "https://localhost:8080/",
          "height": 204
        }
      },
      "source": [
        "rating_cleaned['user_rating'] = rating_cleaned['user_rating'].astype(int)\n",
        "rating_cleaned.head()"
      ],
      "execution_count": 28,
      "outputs": [
        {
          "output_type": "execute_result",
          "data": {
            "text/html": [
              "<div>\n",
              "<style scoped>\n",
              "    .dataframe tbody tr th:only-of-type {\n",
              "        vertical-align: middle;\n",
              "    }\n",
              "\n",
              "    .dataframe tbody tr th {\n",
              "        vertical-align: top;\n",
              "    }\n",
              "\n",
              "    .dataframe thead th {\n",
              "        text-align: right;\n",
              "    }\n",
              "</style>\n",
              "<table border=\"1\" class=\"dataframe\">\n",
              "  <thead>\n",
              "    <tr style=\"text-align: right;\">\n",
              "      <th></th>\n",
              "      <th>prime_genre</th>\n",
              "      <th>user_rating</th>\n",
              "    </tr>\n",
              "  </thead>\n",
              "  <tbody>\n",
              "    <tr>\n",
              "      <th>0</th>\n",
              "      <td>Games</td>\n",
              "      <td>4</td>\n",
              "    </tr>\n",
              "    <tr>\n",
              "      <th>1</th>\n",
              "      <td>Productivity</td>\n",
              "      <td>4</td>\n",
              "    </tr>\n",
              "    <tr>\n",
              "      <th>2</th>\n",
              "      <td>Weather</td>\n",
              "      <td>3</td>\n",
              "    </tr>\n",
              "    <tr>\n",
              "      <th>3</th>\n",
              "      <td>Shopping</td>\n",
              "      <td>4</td>\n",
              "    </tr>\n",
              "    <tr>\n",
              "      <th>4</th>\n",
              "      <td>Reference</td>\n",
              "      <td>4</td>\n",
              "    </tr>\n",
              "  </tbody>\n",
              "</table>\n",
              "</div>"
            ],
            "text/plain": [
              "    prime_genre  user_rating\n",
              "0         Games            4\n",
              "1  Productivity            4\n",
              "2       Weather            3\n",
              "3      Shopping            4\n",
              "4     Reference            4"
            ]
          },
          "metadata": {
            "tags": []
          },
          "execution_count": 28
        }
      ]
    },
    {
      "cell_type": "markdown",
      "metadata": {
        "id": "OBqyp2vn5r8s",
        "colab_type": "text"
      },
      "source": [
        "## Непосредственное обучение на различных классификаторах"
      ]
    },
    {
      "cell_type": "code",
      "metadata": {
        "id": "X47dUvVdeD0n",
        "colab_type": "code",
        "colab": {}
      },
      "source": [
        "from typing import Dict, Tuple\n",
        "from sklearn.linear_model import LogisticRegression\n",
        "from sklearn.metrics import accuracy_score, balanced_accuracy_score\n",
        "from sklearn.naive_bayes import MultinomialNB, ComplementNB, BernoulliNB\n",
        "from sklearn.feature_extraction.text import CountVectorizer, TfidfVectorizer\n",
        "from sklearn.model_selection import train_test_split\n",
        "from sklearn.pipeline import Pipeline"
      ],
      "execution_count": 0,
      "outputs": []
    },
    {
      "cell_type": "code",
      "metadata": {
        "id": "VPUnTXPben5J",
        "colab_type": "code",
        "colab": {}
      },
      "source": [
        "X_train, X_test, y_train, y_test = train_test_split(rating_cleaned['prime_genre'], rating_cleaned['user_rating'], test_size=0.4, random_state=1)"
      ],
      "execution_count": 0,
      "outputs": []
    },
    {
      "cell_type": "code",
      "metadata": {
        "id": "SNZGXRxMgH7y",
        "colab_type": "code",
        "colab": {}
      },
      "source": [
        "def accuracy_score_for_classes(\n",
        "    y_true: np.ndarray, \n",
        "    y_pred: np.ndarray) -> Dict[int, float]:\n",
        "    \"\"\"\n",
        "    Вычисление метрики accuracy для каждого класса\n",
        "    y_true - истинные значения классов\n",
        "    y_pred - предсказанные значения классов\n",
        "    Возвращает словарь: ключ - метка класса, \n",
        "    значение - Accuracy для данного класса\n",
        "    \"\"\"\n",
        "    # Для удобства фильтрации сформируем Pandas DataFrame \n",
        "    d = {'t': y_true, 'p': y_pred}\n",
        "    df = pd.DataFrame(data=d)\n",
        "    # Метки классов\n",
        "    classes = np.unique(y_true)\n",
        "    # Результирующий словарь\n",
        "    res = dict()\n",
        "    # Перебор меток классов\n",
        "    for c in classes:\n",
        "        # отфильтруем данные, которые соответствуют \n",
        "        # текущей метке класса в истинных значениях\n",
        "        temp_data_flt = df[df['t']==c]\n",
        "        # расчет accuracy для заданной метки класса\n",
        "        temp_acc = accuracy_score(\n",
        "            temp_data_flt['t'].values, \n",
        "            temp_data_flt['p'].values)\n",
        "        # сохранение результата в словарь\n",
        "        res[c] = temp_acc\n",
        "    return res\n",
        "\n",
        "def print_accuracy_score_for_classes(\n",
        "    y_true: np.ndarray, \n",
        "    y_pred: np.ndarray, v, c):\n",
        "    \"\"\"\n",
        "    Вывод метрики accuracy для каждого класса\n",
        "    \"\"\"\n",
        "    print(\"Признаки сформированы на\\n{}\".format(v))\n",
        "    print(\"\\nКлассификатор\\n{}\".format(c))\n",
        "    accs = accuracy_score_for_classes(y_true, y_pred)\n",
        "    if len(accs)>0:\n",
        "        print('Метка \\t Accuracy')\n",
        "    for i in accs:\n",
        "      if i > 5:\n",
        "        pass\n",
        "      else:\n",
        "        print('{} \\t {:.2%}'.format(i, accs[i]))\n",
        "    print('\\n\\n')\n",
        "        \n",
        "    "
      ],
      "execution_count": 0,
      "outputs": []
    },
    {
      "cell_type": "code",
      "metadata": {
        "id": "zYLZhtacecqn",
        "colab_type": "code",
        "colab": {}
      },
      "source": [
        "def sentiment(v, c):\n",
        "    model = Pipeline(\n",
        "        [(\"vectorizer\", v), \n",
        "         (\"classifier\", c)])\n",
        "    model.fit(X_train, y_train)\n",
        "    y_pred = model.predict(X_test)\n",
        "    print_accuracy_score_for_classes(y_test, y_pred, v, c)"
      ],
      "execution_count": 0,
      "outputs": []
    },
    {
      "cell_type": "code",
      "metadata": {
        "id": "yOTitnc933Px",
        "colab_type": "code",
        "colab": {}
      },
      "source": [
        "classificators = [LogisticRegression(C=5.0), MultinomialNB(), ComplementNB(), BernoulliNB()]\n",
        "vectorizers = [TfidfVectorizer(), CountVectorizer()]"
      ],
      "execution_count": 0,
      "outputs": []
    },
    {
      "cell_type": "code",
      "metadata": {
        "id": "ap8RcOo6hBvT",
        "colab_type": "code",
        "outputId": "0b9f8b43-c8ba-4582-c139-39132d26ec57",
        "colab": {
          "base_uri": "https://localhost:8080/",
          "height": 3113
        }
      },
      "source": [
        "for classificator in classificators:\n",
        "  for vectorizer in vectorizers:\n",
        "    sentiment(vectorizer, classificator)"
      ],
      "execution_count": 35,
      "outputs": [
        {
          "output_type": "stream",
          "text": [
            "Признаки сформированы на\n",
            "TfidfVectorizer(analyzer='word', binary=False, decode_error='strict',\n",
            "                dtype=<class 'numpy.float64'>, encoding='utf-8',\n",
            "                input='content', lowercase=True, max_df=1.0, max_features=None,\n",
            "                min_df=1, ngram_range=(1, 1), norm='l2', preprocessor=None,\n",
            "                smooth_idf=True, stop_words=None, strip_accents=None,\n",
            "                sublinear_tf=False, token_pattern='(?u)\\\\b\\\\w\\\\w+\\\\b',\n",
            "                tokenizer=None, use_idf=True, vocabulary=None)\n",
            "\n",
            "Классификатор\n",
            "LogisticRegression(C=5.0, class_weight=None, dual=False, fit_intercept=True,\n",
            "                   intercept_scaling=1, l1_ratio=None, max_iter=100,\n",
            "                   multi_class='warn', n_jobs=None, penalty='l2',\n",
            "                   random_state=None, solver='warn', tol=0.0001, verbose=0,\n",
            "                   warm_start=False)\n",
            "Метка \t Accuracy\n",
            "0 \t 3.77%\n",
            "1 \t 0.00%\n",
            "2 \t 0.00%\n",
            "3 \t 3.82%\n",
            "4 \t 98.03%\n",
            "5 \t 0.00%\n",
            "\n",
            "\n",
            "\n",
            "Признаки сформированы на\n",
            "CountVectorizer(analyzer='word', binary=False, decode_error='strict',\n",
            "                dtype=<class 'numpy.int64'>, encoding='utf-8', input='content',\n",
            "                lowercase=True, max_df=1.0, max_features=None, min_df=1,\n",
            "                ngram_range=(1, 1), preprocessor=None, stop_words=None,\n",
            "                strip_accents=None, token_pattern='(?u)\\\\b\\\\w\\\\w+\\\\b',\n",
            "                tokenizer=None, vocabulary=None)\n",
            "\n",
            "Классификатор\n",
            "LogisticRegression(C=5.0, class_weight=None, dual=False, fit_intercept=True,\n",
            "                   intercept_scaling=1, l1_ratio=None, max_iter=100,\n",
            "                   multi_class='warn', n_jobs=None, penalty='l2',\n",
            "                   random_state=None, solver='warn', tol=0.0001, verbose=0,\n",
            "                   warm_start=False)\n",
            "Метка \t Accuracy\n",
            "0 \t 3.77%\n",
            "1 \t 0.00%\n",
            "2 \t 0.00%\n",
            "3 \t 3.82%\n",
            "4 \t 98.03%\n",
            "5 \t 0.00%\n",
            "\n",
            "\n",
            "\n",
            "Признаки сформированы на\n",
            "TfidfVectorizer(analyzer='word', binary=False, decode_error='strict',\n",
            "                dtype=<class 'numpy.float64'>, encoding='utf-8',\n",
            "                input='content', lowercase=True, max_df=1.0, max_features=None,\n",
            "                min_df=1, ngram_range=(1, 1), norm='l2', preprocessor=None,\n",
            "                smooth_idf=True, stop_words=None, strip_accents=None,\n",
            "                sublinear_tf=False, token_pattern='(?u)\\\\b\\\\w\\\\w+\\\\b',\n",
            "                tokenizer=None, use_idf=True, vocabulary=None)\n",
            "\n",
            "Классификатор\n",
            "MultinomialNB(alpha=1.0, class_prior=None, fit_prior=True)\n",
            "Метка \t Accuracy\n",
            "0 \t 3.77%\n",
            "1 \t 0.00%\n",
            "2 \t 0.00%\n",
            "3 \t 3.82%\n",
            "4 \t 98.03%\n",
            "5 \t 0.00%\n",
            "\n",
            "\n",
            "\n",
            "Признаки сформированы на\n",
            "CountVectorizer(analyzer='word', binary=False, decode_error='strict',\n",
            "                dtype=<class 'numpy.int64'>, encoding='utf-8', input='content',\n",
            "                lowercase=True, max_df=1.0, max_features=None, min_df=1,\n",
            "                ngram_range=(1, 1), preprocessor=None, stop_words=None,\n",
            "                strip_accents=None, token_pattern='(?u)\\\\b\\\\w\\\\w+\\\\b',\n",
            "                tokenizer=None, vocabulary=None)\n",
            "\n",
            "Классификатор\n",
            "MultinomialNB(alpha=1.0, class_prior=None, fit_prior=True)\n",
            "Метка \t Accuracy\n",
            "0 \t 3.77%\n",
            "1 \t 0.00%\n",
            "2 \t 0.00%\n",
            "3 \t 8.31%\n",
            "4 \t 95.94%\n",
            "5 \t 0.00%\n",
            "\n",
            "\n",
            "\n",
            "Признаки сформированы на\n",
            "TfidfVectorizer(analyzer='word', binary=False, decode_error='strict',\n",
            "                dtype=<class 'numpy.float64'>, encoding='utf-8',\n",
            "                input='content', lowercase=True, max_df=1.0, max_features=None,\n",
            "                min_df=1, ngram_range=(1, 1), norm='l2', preprocessor=None,\n",
            "                smooth_idf=True, stop_words=None, strip_accents=None,\n",
            "                sublinear_tf=False, token_pattern='(?u)\\\\b\\\\w\\\\w+\\\\b',\n",
            "                tokenizer=None, use_idf=True, vocabulary=None)\n",
            "\n",
            "Классификатор\n",
            "ComplementNB(alpha=1.0, class_prior=None, fit_prior=True, norm=False)\n",
            "Метка \t Accuracy\n",
            "0 \t 12.94%\n",
            "1 \t 0.00%\n",
            "2 \t 9.60%\n",
            "3 \t 35.51%\n",
            "4 \t 71.54%\n",
            "5 \t 7.34%\n",
            "\n",
            "\n",
            "\n",
            "Признаки сформированы на\n",
            "CountVectorizer(analyzer='word', binary=False, decode_error='strict',\n",
            "                dtype=<class 'numpy.int64'>, encoding='utf-8', input='content',\n",
            "                lowercase=True, max_df=1.0, max_features=None, min_df=1,\n",
            "                ngram_range=(1, 1), preprocessor=None, stop_words=None,\n",
            "                strip_accents=None, token_pattern='(?u)\\\\b\\\\w\\\\w+\\\\b',\n",
            "                tokenizer=None, vocabulary=None)\n",
            "\n",
            "Классификатор\n",
            "ComplementNB(alpha=1.0, class_prior=None, fit_prior=True, norm=False)\n",
            "Метка \t Accuracy\n",
            "0 \t 12.94%\n",
            "1 \t 0.00%\n",
            "2 \t 9.60%\n",
            "3 \t 35.51%\n",
            "4 \t 71.54%\n",
            "5 \t 7.34%\n",
            "\n",
            "\n",
            "\n",
            "Признаки сформированы на\n",
            "TfidfVectorizer(analyzer='word', binary=False, decode_error='strict',\n",
            "                dtype=<class 'numpy.float64'>, encoding='utf-8',\n",
            "                input='content', lowercase=True, max_df=1.0, max_features=None,\n",
            "                min_df=1, ngram_range=(1, 1), norm='l2', preprocessor=None,\n",
            "                smooth_idf=True, stop_words=None, strip_accents=None,\n",
            "                sublinear_tf=False, token_pattern='(?u)\\\\b\\\\w\\\\w+\\\\b',\n",
            "                tokenizer=None, use_idf=True, vocabulary=None)\n",
            "\n",
            "Классификатор\n",
            "BernoulliNB(alpha=1.0, binarize=0.0, class_prior=None, fit_prior=True)\n",
            "Метка \t Accuracy\n",
            "0 \t 8.89%\n",
            "1 \t 0.00%\n",
            "2 \t 0.00%\n",
            "3 \t 8.31%\n",
            "4 \t 95.36%\n",
            "5 \t 0.00%\n",
            "\n",
            "\n",
            "\n",
            "Признаки сформированы на\n",
            "CountVectorizer(analyzer='word', binary=False, decode_error='strict',\n",
            "                dtype=<class 'numpy.int64'>, encoding='utf-8', input='content',\n",
            "                lowercase=True, max_df=1.0, max_features=None, min_df=1,\n",
            "                ngram_range=(1, 1), preprocessor=None, stop_words=None,\n",
            "                strip_accents=None, token_pattern='(?u)\\\\b\\\\w\\\\w+\\\\b',\n",
            "                tokenizer=None, vocabulary=None)\n",
            "\n",
            "Классификатор\n",
            "BernoulliNB(alpha=1.0, binarize=0.0, class_prior=None, fit_prior=True)\n",
            "Метка \t Accuracy\n",
            "0 \t 8.89%\n",
            "1 \t 0.00%\n",
            "2 \t 0.00%\n",
            "3 \t 8.31%\n",
            "4 \t 95.36%\n",
            "5 \t 0.00%\n",
            "\n",
            "\n",
            "\n"
          ],
          "name": "stdout"
        }
      ]
    },
    {
      "cell_type": "markdown",
      "metadata": {
        "id": "DcC_7ofL6GDo",
        "colab_type": "text"
      },
      "source": [
        "## Вывод"
      ]
    },
    {
      "cell_type": "markdown",
      "metadata": {
        "id": "LmfVmewt7SdQ",
        "colab_type": "text"
      },
      "source": [
        "На основе полученного можно сделать вывод, что лучшим методом в данной ситуации является CountVectorizer с ComplementNB, который показал более равномерную оценку, по сравнению с другими, определявшеми только 4."
      ]
    }
  ]
}