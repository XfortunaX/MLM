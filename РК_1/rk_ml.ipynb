{
  "nbformat": 4,
  "nbformat_minor": 0,
  "metadata": {
    "colab": {
      "name": "rk_ml.ipynb",
      "version": "0.3.2",
      "provenance": [],
      "collapsed_sections": []
    },
    "kernelspec": {
      "name": "python3",
      "display_name": "Python 3"
    }
  },
  "cells": [
    {
      "cell_type": "markdown",
      "metadata": {
        "id": "_d955RVyECXw",
        "colab_type": "text"
      },
      "source": [
        "##Буклин С. В. ИУ5-21М"
      ]
    },
    {
      "cell_type": "markdown",
      "metadata": {
        "id": "n0Icy-CV2dS4",
        "colab_type": "text"
      },
      "source": [
        "##**РК №1 по курсу \"Методы иашинного обучения\"**\n",
        "\n",
        "### **Вариант №3.**\n",
        "\n",
        "Для заданного набора данных произведите масштабирование данных (для одного признака) и преобразование категориальных признаков в количественные двумя способами (label encoding, one hot encoding) для одного признака. Какие методы Вы использовали для решения задачи и почему?\n",
        "\n",
        "### **Набор данных**\n",
        "\n",
        "https://www.kaggle.com/karangadiya/fifa19\n",
        "\n",
        "\n"
      ]
    },
    {
      "cell_type": "code",
      "metadata": {
        "id": "TmRt5mjv0jKs",
        "colab_type": "code",
        "colab": {}
      },
      "source": [
        "import numpy as np\n",
        "import pandas as pd\n",
        "import seaborn as sns\n",
        "import matplotlib.pyplot as plt\n",
        "%matplotlib inline \n",
        "sns.set(style=\"ticks\")"
      ],
      "execution_count": 0,
      "outputs": []
    },
    {
      "cell_type": "code",
      "metadata": {
        "id": "wo6_-Esb3MXX",
        "colab_type": "code",
        "outputId": "683fa770-3a56-470b-97c7-f811e80cbb15",
        "colab": {
          "base_uri": "https://localhost:8080/",
          "height": 127
        }
      },
      "source": [
        "from google.colab import drive\n",
        "drive.mount('/content/drive')"
      ],
      "execution_count": 0,
      "outputs": [
        {
          "output_type": "stream",
          "text": [
            "Go to this URL in a browser: https://accounts.google.com/o/oauth2/auth?client_id=947318989803-6bn6qk8qdgf4n4g3pfee6491hc0brc4i.apps.googleusercontent.com&redirect_uri=urn%3Aietf%3Awg%3Aoauth%3A2.0%3Aoob&scope=email%20https%3A%2F%2Fwww.googleapis.com%2Fauth%2Fdocs.test%20https%3A%2F%2Fwww.googleapis.com%2Fauth%2Fdrive%20https%3A%2F%2Fwww.googleapis.com%2Fauth%2Fdrive.photos.readonly%20https%3A%2F%2Fwww.googleapis.com%2Fauth%2Fpeopleapi.readonly&response_type=code\n",
            "\n",
            "Enter your authorization code:\n",
            "··········\n",
            "Mounted at /content/drive\n"
          ],
          "name": "stdout"
        }
      ]
    },
    {
      "cell_type": "code",
      "metadata": {
        "id": "IOZbokoG4h4n",
        "colab_type": "code",
        "colab": {}
      },
      "source": [
        "data = pd.read_csv('/content/drive/My Drive/Colab Notebooks/data.csv', sep=',')"
      ],
      "execution_count": 0,
      "outputs": []
    },
    {
      "cell_type": "code",
      "metadata": {
        "id": "x6osTjMz66GJ",
        "colab_type": "code",
        "outputId": "f481c93b-5dc4-4680-e6c0-b0509a33a5b7",
        "colab": {
          "base_uri": "https://localhost:8080/",
          "height": 355
        }
      },
      "source": [
        "data.head()\n"
      ],
      "execution_count": 0,
      "outputs": [
        {
          "output_type": "execute_result",
          "data": {
            "text/html": [
              "<div>\n",
              "<style scoped>\n",
              "    .dataframe tbody tr th:only-of-type {\n",
              "        vertical-align: middle;\n",
              "    }\n",
              "\n",
              "    .dataframe tbody tr th {\n",
              "        vertical-align: top;\n",
              "    }\n",
              "\n",
              "    .dataframe thead th {\n",
              "        text-align: right;\n",
              "    }\n",
              "</style>\n",
              "<table border=\"1\" class=\"dataframe\">\n",
              "  <thead>\n",
              "    <tr style=\"text-align: right;\">\n",
              "      <th></th>\n",
              "      <th>Unnamed: 0</th>\n",
              "      <th>ID</th>\n",
              "      <th>Name</th>\n",
              "      <th>Age</th>\n",
              "      <th>Photo</th>\n",
              "      <th>Nationality</th>\n",
              "      <th>Flag</th>\n",
              "      <th>Overall</th>\n",
              "      <th>Potential</th>\n",
              "      <th>Club</th>\n",
              "      <th>...</th>\n",
              "      <th>Composure</th>\n",
              "      <th>Marking</th>\n",
              "      <th>StandingTackle</th>\n",
              "      <th>SlidingTackle</th>\n",
              "      <th>GKDiving</th>\n",
              "      <th>GKHandling</th>\n",
              "      <th>GKKicking</th>\n",
              "      <th>GKPositioning</th>\n",
              "      <th>GKReflexes</th>\n",
              "      <th>Release Clause</th>\n",
              "    </tr>\n",
              "  </thead>\n",
              "  <tbody>\n",
              "    <tr>\n",
              "      <th>0</th>\n",
              "      <td>0</td>\n",
              "      <td>158023</td>\n",
              "      <td>L. Messi</td>\n",
              "      <td>31</td>\n",
              "      <td>https://cdn.sofifa.org/players/4/19/158023.png</td>\n",
              "      <td>Argentina</td>\n",
              "      <td>https://cdn.sofifa.org/flags/52.png</td>\n",
              "      <td>94</td>\n",
              "      <td>94</td>\n",
              "      <td>FC Barcelona</td>\n",
              "      <td>...</td>\n",
              "      <td>96.0</td>\n",
              "      <td>33.0</td>\n",
              "      <td>28.0</td>\n",
              "      <td>26.0</td>\n",
              "      <td>6.0</td>\n",
              "      <td>11.0</td>\n",
              "      <td>15.0</td>\n",
              "      <td>14.0</td>\n",
              "      <td>8.0</td>\n",
              "      <td>€226.5M</td>\n",
              "    </tr>\n",
              "    <tr>\n",
              "      <th>1</th>\n",
              "      <td>1</td>\n",
              "      <td>20801</td>\n",
              "      <td>Cristiano Ronaldo</td>\n",
              "      <td>33</td>\n",
              "      <td>https://cdn.sofifa.org/players/4/19/20801.png</td>\n",
              "      <td>Portugal</td>\n",
              "      <td>https://cdn.sofifa.org/flags/38.png</td>\n",
              "      <td>94</td>\n",
              "      <td>94</td>\n",
              "      <td>Juventus</td>\n",
              "      <td>...</td>\n",
              "      <td>95.0</td>\n",
              "      <td>28.0</td>\n",
              "      <td>31.0</td>\n",
              "      <td>23.0</td>\n",
              "      <td>7.0</td>\n",
              "      <td>11.0</td>\n",
              "      <td>15.0</td>\n",
              "      <td>14.0</td>\n",
              "      <td>11.0</td>\n",
              "      <td>€127.1M</td>\n",
              "    </tr>\n",
              "    <tr>\n",
              "      <th>2</th>\n",
              "      <td>2</td>\n",
              "      <td>190871</td>\n",
              "      <td>Neymar Jr</td>\n",
              "      <td>26</td>\n",
              "      <td>https://cdn.sofifa.org/players/4/19/190871.png</td>\n",
              "      <td>Brazil</td>\n",
              "      <td>https://cdn.sofifa.org/flags/54.png</td>\n",
              "      <td>92</td>\n",
              "      <td>93</td>\n",
              "      <td>Paris Saint-Germain</td>\n",
              "      <td>...</td>\n",
              "      <td>94.0</td>\n",
              "      <td>27.0</td>\n",
              "      <td>24.0</td>\n",
              "      <td>33.0</td>\n",
              "      <td>9.0</td>\n",
              "      <td>9.0</td>\n",
              "      <td>15.0</td>\n",
              "      <td>15.0</td>\n",
              "      <td>11.0</td>\n",
              "      <td>€228.1M</td>\n",
              "    </tr>\n",
              "    <tr>\n",
              "      <th>3</th>\n",
              "      <td>3</td>\n",
              "      <td>193080</td>\n",
              "      <td>De Gea</td>\n",
              "      <td>27</td>\n",
              "      <td>https://cdn.sofifa.org/players/4/19/193080.png</td>\n",
              "      <td>Spain</td>\n",
              "      <td>https://cdn.sofifa.org/flags/45.png</td>\n",
              "      <td>91</td>\n",
              "      <td>93</td>\n",
              "      <td>Manchester United</td>\n",
              "      <td>...</td>\n",
              "      <td>68.0</td>\n",
              "      <td>15.0</td>\n",
              "      <td>21.0</td>\n",
              "      <td>13.0</td>\n",
              "      <td>90.0</td>\n",
              "      <td>85.0</td>\n",
              "      <td>87.0</td>\n",
              "      <td>88.0</td>\n",
              "      <td>94.0</td>\n",
              "      <td>€138.6M</td>\n",
              "    </tr>\n",
              "    <tr>\n",
              "      <th>4</th>\n",
              "      <td>4</td>\n",
              "      <td>192985</td>\n",
              "      <td>K. De Bruyne</td>\n",
              "      <td>27</td>\n",
              "      <td>https://cdn.sofifa.org/players/4/19/192985.png</td>\n",
              "      <td>Belgium</td>\n",
              "      <td>https://cdn.sofifa.org/flags/7.png</td>\n",
              "      <td>91</td>\n",
              "      <td>92</td>\n",
              "      <td>Manchester City</td>\n",
              "      <td>...</td>\n",
              "      <td>88.0</td>\n",
              "      <td>68.0</td>\n",
              "      <td>58.0</td>\n",
              "      <td>51.0</td>\n",
              "      <td>15.0</td>\n",
              "      <td>13.0</td>\n",
              "      <td>5.0</td>\n",
              "      <td>10.0</td>\n",
              "      <td>13.0</td>\n",
              "      <td>€196.4M</td>\n",
              "    </tr>\n",
              "  </tbody>\n",
              "</table>\n",
              "<p>5 rows × 89 columns</p>\n",
              "</div>"
            ],
            "text/plain": [
              "   Unnamed: 0      ID               Name  Age  \\\n",
              "0           0  158023           L. Messi   31   \n",
              "1           1   20801  Cristiano Ronaldo   33   \n",
              "2           2  190871          Neymar Jr   26   \n",
              "3           3  193080             De Gea   27   \n",
              "4           4  192985       K. De Bruyne   27   \n",
              "\n",
              "                                            Photo Nationality  \\\n",
              "0  https://cdn.sofifa.org/players/4/19/158023.png   Argentina   \n",
              "1   https://cdn.sofifa.org/players/4/19/20801.png    Portugal   \n",
              "2  https://cdn.sofifa.org/players/4/19/190871.png      Brazil   \n",
              "3  https://cdn.sofifa.org/players/4/19/193080.png       Spain   \n",
              "4  https://cdn.sofifa.org/players/4/19/192985.png     Belgium   \n",
              "\n",
              "                                  Flag  Overall  Potential  \\\n",
              "0  https://cdn.sofifa.org/flags/52.png       94         94   \n",
              "1  https://cdn.sofifa.org/flags/38.png       94         94   \n",
              "2  https://cdn.sofifa.org/flags/54.png       92         93   \n",
              "3  https://cdn.sofifa.org/flags/45.png       91         93   \n",
              "4   https://cdn.sofifa.org/flags/7.png       91         92   \n",
              "\n",
              "                  Club      ...       Composure Marking StandingTackle  \\\n",
              "0         FC Barcelona      ...            96.0    33.0           28.0   \n",
              "1             Juventus      ...            95.0    28.0           31.0   \n",
              "2  Paris Saint-Germain      ...            94.0    27.0           24.0   \n",
              "3    Manchester United      ...            68.0    15.0           21.0   \n",
              "4      Manchester City      ...            88.0    68.0           58.0   \n",
              "\n",
              "   SlidingTackle GKDiving  GKHandling  GKKicking  GKPositioning GKReflexes  \\\n",
              "0           26.0      6.0        11.0       15.0           14.0        8.0   \n",
              "1           23.0      7.0        11.0       15.0           14.0       11.0   \n",
              "2           33.0      9.0         9.0       15.0           15.0       11.0   \n",
              "3           13.0     90.0        85.0       87.0           88.0       94.0   \n",
              "4           51.0     15.0        13.0        5.0           10.0       13.0   \n",
              "\n",
              "  Release Clause  \n",
              "0        €226.5M  \n",
              "1        €127.1M  \n",
              "2        €228.1M  \n",
              "3        €138.6M  \n",
              "4        €196.4M  \n",
              "\n",
              "[5 rows x 89 columns]"
            ]
          },
          "metadata": {
            "tags": []
          },
          "execution_count": 6
        }
      ]
    },
    {
      "cell_type": "code",
      "metadata": {
        "id": "V9v30sby7bDd",
        "colab_type": "code",
        "outputId": "2acaad31-4410-4793-e056-3ab0715347c4",
        "colab": {
          "base_uri": "https://localhost:8080/",
          "height": 35
        }
      },
      "source": [
        "data.shape"
      ],
      "execution_count": 0,
      "outputs": [
        {
          "output_type": "execute_result",
          "data": {
            "text/plain": [
              "(18207, 89)"
            ]
          },
          "metadata": {
            "tags": []
          },
          "execution_count": 8
        }
      ]
    },
    {
      "cell_type": "code",
      "metadata": {
        "id": "5GbB3z2I7gam",
        "colab_type": "code",
        "outputId": "e39ff23b-78a3-40b7-de55-92ad5f286100",
        "colab": {
          "base_uri": "https://localhost:8080/",
          "height": 1133
        }
      },
      "source": [
        "data.dtypes"
      ],
      "execution_count": 0,
      "outputs": [
        {
          "output_type": "execute_result",
          "data": {
            "text/plain": [
              "Unnamed: 0                    int64\n",
              "ID                            int64\n",
              "Name                         object\n",
              "Age                           int64\n",
              "Photo                        object\n",
              "Nationality                  object\n",
              "Flag                         object\n",
              "Overall                       int64\n",
              "Potential                     int64\n",
              "Club                         object\n",
              "Club Logo                    object\n",
              "Value                        object\n",
              "Wage                         object\n",
              "Special                       int64\n",
              "Preferred Foot               object\n",
              "International Reputation    float64\n",
              "Weak Foot                   float64\n",
              "Skill Moves                 float64\n",
              "Work Rate                    object\n",
              "Body Type                    object\n",
              "Real Face                    object\n",
              "Position                     object\n",
              "Jersey Number               float64\n",
              "Joined                       object\n",
              "Loaned From                  object\n",
              "Contract Valid Until         object\n",
              "Height                       object\n",
              "Weight                       object\n",
              "LS                           object\n",
              "ST                           object\n",
              "                             ...   \n",
              "Dribbling                   float64\n",
              "Curve                       float64\n",
              "FKAccuracy                  float64\n",
              "LongPassing                 float64\n",
              "BallControl                 float64\n",
              "Acceleration                float64\n",
              "SprintSpeed                 float64\n",
              "Agility                     float64\n",
              "Reactions                   float64\n",
              "Balance                     float64\n",
              "ShotPower                   float64\n",
              "Jumping                     float64\n",
              "Stamina                     float64\n",
              "Strength                    float64\n",
              "LongShots                   float64\n",
              "Aggression                  float64\n",
              "Interceptions               float64\n",
              "Positioning                 float64\n",
              "Vision                      float64\n",
              "Penalties                   float64\n",
              "Composure                   float64\n",
              "Marking                     float64\n",
              "StandingTackle              float64\n",
              "SlidingTackle               float64\n",
              "GKDiving                    float64\n",
              "GKHandling                  float64\n",
              "GKKicking                   float64\n",
              "GKPositioning               float64\n",
              "GKReflexes                  float64\n",
              "Release Clause               object\n",
              "Length: 89, dtype: object"
            ]
          },
          "metadata": {
            "tags": []
          },
          "execution_count": 10
        }
      ]
    },
    {
      "cell_type": "markdown",
      "metadata": {
        "id": "wRRjy7x17Hvs",
        "colab_type": "text"
      },
      "source": [
        "## **Масштабирование данных**"
      ]
    },
    {
      "cell_type": "code",
      "metadata": {
        "id": "aACt-lI57NWD",
        "colab_type": "code",
        "colab": {}
      },
      "source": [
        "from sklearn.preprocessing import MinMaxScaler, StandardScaler, Normalizer"
      ],
      "execution_count": 0,
      "outputs": []
    },
    {
      "cell_type": "code",
      "metadata": {
        "id": "8wr2LOBn8jRk",
        "colab_type": "code",
        "outputId": "dcca9fb4-7b45-4a53-8d32-774351d92d7d",
        "colab": {
          "base_uri": "https://localhost:8080/",
          "height": 274
        }
      },
      "source": [
        "plt.hist(data['Potential'], 20)\n",
        "plt.show()"
      ],
      "execution_count": 0,
      "outputs": [
        {
          "output_type": "display_data",
          "data": {
            "image/png": "[encoded data removed]",
            "text/plain": [
              "<Figure size 432x288 with 1 Axes>"
            ]
          },
          "metadata": {
            "tags": []
          }
        }
      ]
    },
    {
      "cell_type": "code",
      "metadata": {
        "id": "_ix0t6Ec7GiE",
        "colab_type": "code",
        "outputId": "9dd17d0c-e736-4ae6-8a89-2f44e096caf6",
        "colab": {
          "base_uri": "https://localhost:8080/",
          "height": 53
        }
      },
      "source": [
        "sc1 = MinMaxScaler()\n",
        "sc1_data = sc1.fit_transform(data[['Potential']])"
      ],
      "execution_count": 0,
      "outputs": [
        {
          "output_type": "stream",
          "text": [
            "/usr/local/lib/python3.6/dist-packages/sklearn/preprocessing/data.py:334: DataConversionWarning: Data with input dtype int64 were all converted to float64 by MinMaxScaler.\n",
            "  return self.partial_fit(X, y)\n"
          ],
          "name": "stderr"
        }
      ]
    },
    {
      "cell_type": "code",
      "metadata": {
        "id": "jwNuNifTBL3h",
        "colab_type": "code",
        "outputId": "1ee986c7-c294-4e07-cb37-dd9cd5142a98",
        "colab": {
          "base_uri": "https://localhost:8080/",
          "height": 274
        }
      },
      "source": [
        "plt.hist(sc1_data, 20)\n",
        "plt.show()"
      ],
      "execution_count": 0,
      "outputs": [
        {
          "output_type": "display_data",
          "data": {
            "image/png": "[encoded data removed]",
            "text/plain": [
              "<Figure size 432x288 with 1 Axes>"
            ]
          },
          "metadata": {
            "tags": []
          }
        }
      ]
    },
    {
      "cell_type": "markdown",
      "metadata": {
        "id": "kAhbCLdB9BIW",
        "colab_type": "text"
      },
      "source": [
        "## **Преобразование категориальных признаков в количественные**"
      ]
    },
    {
      "cell_type": "code",
      "metadata": {
        "id": "bnRc63vw-98R",
        "colab_type": "code",
        "outputId": "b721999b-078e-43da-a129-7af76362c86b",
        "colab": {
          "base_uri": "https://localhost:8080/",
          "height": 359
        }
      },
      "source": [
        "cat_temp_data = data[['Nationality']]\n",
        "cat_temp_data.tail(10)"
      ],
      "execution_count": 0,
      "outputs": [
        {
          "output_type": "execute_result",
          "data": {
            "text/html": [
              "<div>\n",
              "<style scoped>\n",
              "    .dataframe tbody tr th:only-of-type {\n",
              "        vertical-align: middle;\n",
              "    }\n",
              "\n",
              "    .dataframe tbody tr th {\n",
              "        vertical-align: top;\n",
              "    }\n",
              "\n",
              "    .dataframe thead th {\n",
              "        text-align: right;\n",
              "    }\n",
              "</style>\n",
              "<table border=\"1\" class=\"dataframe\">\n",
              "  <thead>\n",
              "    <tr style=\"text-align: right;\">\n",
              "      <th></th>\n",
              "      <th>Nationality</th>\n",
              "    </tr>\n",
              "  </thead>\n",
              "  <tbody>\n",
              "    <tr>\n",
              "      <th>18197</th>\n",
              "      <td>Republic of Ireland</td>\n",
              "    </tr>\n",
              "    <tr>\n",
              "      <th>18198</th>\n",
              "      <td>England</td>\n",
              "    </tr>\n",
              "    <tr>\n",
              "      <th>18199</th>\n",
              "      <td>Canada</td>\n",
              "    </tr>\n",
              "    <tr>\n",
              "      <th>18200</th>\n",
              "      <td>Scotland</td>\n",
              "    </tr>\n",
              "    <tr>\n",
              "      <th>18201</th>\n",
              "      <td>Republic of Ireland</td>\n",
              "    </tr>\n",
              "    <tr>\n",
              "      <th>18202</th>\n",
              "      <td>England</td>\n",
              "    </tr>\n",
              "    <tr>\n",
              "      <th>18203</th>\n",
              "      <td>Sweden</td>\n",
              "    </tr>\n",
              "    <tr>\n",
              "      <th>18204</th>\n",
              "      <td>England</td>\n",
              "    </tr>\n",
              "    <tr>\n",
              "      <th>18205</th>\n",
              "      <td>England</td>\n",
              "    </tr>\n",
              "    <tr>\n",
              "      <th>18206</th>\n",
              "      <td>England</td>\n",
              "    </tr>\n",
              "  </tbody>\n",
              "</table>\n",
              "</div>"
            ],
            "text/plain": [
              "               Nationality\n",
              "18197  Republic of Ireland\n",
              "18198              England\n",
              "18199               Canada\n",
              "18200             Scotland\n",
              "18201  Republic of Ireland\n",
              "18202              England\n",
              "18203               Sweden\n",
              "18204              England\n",
              "18205              England\n",
              "18206              England"
            ]
          },
          "metadata": {
            "tags": []
          },
          "execution_count": 27
        }
      ]
    },
    {
      "cell_type": "code",
      "metadata": {
        "id": "KwrtNUpl_c5q",
        "colab_type": "code",
        "outputId": "fa281696-edb8-4620-a901-f2ecc3a249ea",
        "colab": {
          "base_uri": "https://localhost:8080/",
          "height": 611
        }
      },
      "source": [
        "cat_temp_data['Nationality'].unique()"
      ],
      "execution_count": 0,
      "outputs": [
        {
          "output_type": "execute_result",
          "data": {
            "text/plain": [
              "array(['Argentina', 'Portugal', 'Brazil', 'Spain', 'Belgium', 'Croatia',\n",
              "       'Uruguay', 'Slovenia', 'Poland', 'Germany', 'France', 'England',\n",
              "       'Italy', 'Egypt', 'Colombia', 'Denmark', 'Gabon', 'Wales',\n",
              "       'Senegal', 'Costa Rica', 'Slovakia', 'Netherlands',\n",
              "       'Bosnia Herzegovina', 'Morocco', 'Serbia', 'Algeria', 'Austria',\n",
              "       'Greece', 'Chile', 'Sweden', 'Korea Republic', 'Finland', 'Guinea',\n",
              "       'Montenegro', 'Armenia', 'Switzerland', 'Norway', 'Czech Republic',\n",
              "       'Scotland', 'Ghana', 'Central African Rep.', 'DR Congo',\n",
              "       'Ivory Coast', 'Russia', 'Ukraine', 'Iceland', 'Mexico', 'Jamaica',\n",
              "       'Albania', 'Venezuela', 'Japan', 'Turkey', 'Ecuador', 'Paraguay',\n",
              "       'Mali', 'Nigeria', 'Cameroon', 'Dominican Republic', 'Israel',\n",
              "       'Kenya', 'Hungary', 'Republic of Ireland', 'Romania',\n",
              "       'United States', 'Cape Verde', 'Australia', 'Peru', 'Togo',\n",
              "       'Syria', 'Zimbabwe', 'Angola', 'Burkina Faso', 'Iran', 'Estonia',\n",
              "       'Tunisia', 'Equatorial Guinea', 'New Zealand', 'FYR Macedonia',\n",
              "       'United Arab Emirates', 'China PR', 'Guinea Bissau', 'Bulgaria',\n",
              "       'Kosovo', 'South Africa', 'Madagascar', 'Georgia', 'Tanzania',\n",
              "       'Gambia', 'Cuba', 'Belarus', 'Uzbekistan', 'Benin', 'Congo',\n",
              "       'Mozambique', 'Honduras', 'Canada', 'Northern Ireland', 'Cyprus',\n",
              "       'Saudi Arabia', 'Curacao', 'Moldova', 'Bolivia',\n",
              "       'Trinidad & Tobago', 'Sierra Leone', 'Zambia', 'Chad',\n",
              "       'Philippines', 'Haiti', 'Comoros', 'Libya', 'Panama',\n",
              "       'São Tomé & Príncipe', 'Eritrea', 'Oman', 'Iraq', 'Burundi',\n",
              "       'Fiji', 'New Caledonia', 'Lithuania', 'Luxembourg', 'Korea DPR',\n",
              "       'Liechtenstein', 'St Kitts Nevis', 'Latvia', 'Suriname', 'Uganda',\n",
              "       'El Salvador', 'Bermuda', 'Kuwait', 'Antigua & Barbuda',\n",
              "       'Thailand', 'Mauritius', 'Guatemala', 'Liberia', 'Kazakhstan',\n",
              "       'Niger', 'Mauritania', 'Montserrat', 'Namibia', 'Azerbaijan',\n",
              "       'Guam', 'Faroe Islands', 'India', 'Nicaragua', 'Barbados',\n",
              "       'Lebanon', 'Palestine', 'Guyana', 'Sudan', 'St Lucia', 'Ethiopia',\n",
              "       'Puerto Rico', 'Grenada', 'Jordan', 'Rwanda', 'Qatar',\n",
              "       'Afghanistan', 'Hong Kong', 'Andorra', 'Malta', 'Belize',\n",
              "       'South Sudan', 'Indonesia', 'Botswana'], dtype=object)"
            ]
          },
          "metadata": {
            "tags": []
          },
          "execution_count": 28
        }
      ]
    },
    {
      "cell_type": "code",
      "metadata": {
        "id": "01avGqLm_kMX",
        "colab_type": "code",
        "outputId": "cd77d110-a61a-431f-b404-bb82c29dd9d4",
        "colab": {
          "base_uri": "https://localhost:8080/",
          "height": 35
        }
      },
      "source": [
        "cat_temp_data[cat_temp_data['Nationality'].isnull()].shape"
      ],
      "execution_count": 0,
      "outputs": [
        {
          "output_type": "execute_result",
          "data": {
            "text/plain": [
              "(0, 1)"
            ]
          },
          "metadata": {
            "tags": []
          },
          "execution_count": 29
        }
      ]
    },
    {
      "cell_type": "code",
      "metadata": {
        "id": "-KznL5kIAJBH",
        "colab_type": "code",
        "colab": {}
      },
      "source": [
        "from sklearn.impute import SimpleImputer"
      ],
      "execution_count": 0,
      "outputs": []
    },
    {
      "cell_type": "code",
      "metadata": {
        "id": "k9I3oS66_sgn",
        "colab_type": "code",
        "outputId": "252a6b95-b8c7-4c2a-c100-5e5bedc7527b",
        "colab": {
          "base_uri": "https://localhost:8080/",
          "height": 143
        }
      },
      "source": [
        "imp2 = SimpleImputer(missing_values=np.nan, strategy='most_frequent')\n",
        "data_imp2 = imp2.fit_transform(cat_temp_data)\n",
        "data_imp2"
      ],
      "execution_count": 0,
      "outputs": [
        {
          "output_type": "execute_result",
          "data": {
            "text/plain": [
              "array([['Argentina'],\n",
              "       ['Portugal'],\n",
              "       ['Brazil'],\n",
              "       ...,\n",
              "       ['England'],\n",
              "       ['England'],\n",
              "       ['England']], dtype=object)"
            ]
          },
          "metadata": {
            "tags": []
          },
          "execution_count": 34
        }
      ]
    },
    {
      "cell_type": "code",
      "metadata": {
        "id": "Eafkuu3R9AVs",
        "colab_type": "code",
        "outputId": "53c1920d-96c9-4687-ef84-806b0bdafecc",
        "colab": {
          "base_uri": "https://localhost:8080/",
          "height": 1969
        }
      },
      "source": [
        "cat_enc = pd.DataFrame({'c1':data_imp2.T[0]})\n",
        "cat_enc"
      ],
      "execution_count": 0,
      "outputs": [
        {
          "output_type": "execute_result",
          "data": {
            "text/html": [
              "<div>\n",
              "<style scoped>\n",
              "    .dataframe tbody tr th:only-of-type {\n",
              "        vertical-align: middle;\n",
              "    }\n",
              "\n",
              "    .dataframe tbody tr th {\n",
              "        vertical-align: top;\n",
              "    }\n",
              "\n",
              "    .dataframe thead th {\n",
              "        text-align: right;\n",
              "    }\n",
              "</style>\n",
              "<table border=\"1\" class=\"dataframe\">\n",
              "  <thead>\n",
              "    <tr style=\"text-align: right;\">\n",
              "      <th></th>\n",
              "      <th>c1</th>\n",
              "    </tr>\n",
              "  </thead>\n",
              "  <tbody>\n",
              "    <tr>\n",
              "      <th>0</th>\n",
              "      <td>Argentina</td>\n",
              "    </tr>\n",
              "    <tr>\n",
              "      <th>1</th>\n",
              "      <td>Portugal</td>\n",
              "    </tr>\n",
              "    <tr>\n",
              "      <th>2</th>\n",
              "      <td>Brazil</td>\n",
              "    </tr>\n",
              "    <tr>\n",
              "      <th>3</th>\n",
              "      <td>Spain</td>\n",
              "    </tr>\n",
              "    <tr>\n",
              "      <th>4</th>\n",
              "      <td>Belgium</td>\n",
              "    </tr>\n",
              "    <tr>\n",
              "      <th>5</th>\n",
              "      <td>Belgium</td>\n",
              "    </tr>\n",
              "    <tr>\n",
              "      <th>6</th>\n",
              "      <td>Croatia</td>\n",
              "    </tr>\n",
              "    <tr>\n",
              "      <th>7</th>\n",
              "      <td>Uruguay</td>\n",
              "    </tr>\n",
              "    <tr>\n",
              "      <th>8</th>\n",
              "      <td>Spain</td>\n",
              "    </tr>\n",
              "    <tr>\n",
              "      <th>9</th>\n",
              "      <td>Slovenia</td>\n",
              "    </tr>\n",
              "    <tr>\n",
              "      <th>10</th>\n",
              "      <td>Poland</td>\n",
              "    </tr>\n",
              "    <tr>\n",
              "      <th>11</th>\n",
              "      <td>Germany</td>\n",
              "    </tr>\n",
              "    <tr>\n",
              "      <th>12</th>\n",
              "      <td>Uruguay</td>\n",
              "    </tr>\n",
              "    <tr>\n",
              "      <th>13</th>\n",
              "      <td>Spain</td>\n",
              "    </tr>\n",
              "    <tr>\n",
              "      <th>14</th>\n",
              "      <td>France</td>\n",
              "    </tr>\n",
              "    <tr>\n",
              "      <th>15</th>\n",
              "      <td>Argentina</td>\n",
              "    </tr>\n",
              "    <tr>\n",
              "      <th>16</th>\n",
              "      <td>England</td>\n",
              "    </tr>\n",
              "    <tr>\n",
              "      <th>17</th>\n",
              "      <td>France</td>\n",
              "    </tr>\n",
              "    <tr>\n",
              "      <th>18</th>\n",
              "      <td>Germany</td>\n",
              "    </tr>\n",
              "    <tr>\n",
              "      <th>19</th>\n",
              "      <td>Belgium</td>\n",
              "    </tr>\n",
              "    <tr>\n",
              "      <th>20</th>\n",
              "      <td>Spain</td>\n",
              "    </tr>\n",
              "    <tr>\n",
              "      <th>21</th>\n",
              "      <td>Uruguay</td>\n",
              "    </tr>\n",
              "    <tr>\n",
              "      <th>22</th>\n",
              "      <td>Germany</td>\n",
              "    </tr>\n",
              "    <tr>\n",
              "      <th>23</th>\n",
              "      <td>Argentina</td>\n",
              "    </tr>\n",
              "    <tr>\n",
              "      <th>24</th>\n",
              "      <td>Italy</td>\n",
              "    </tr>\n",
              "    <tr>\n",
              "      <th>25</th>\n",
              "      <td>France</td>\n",
              "    </tr>\n",
              "    <tr>\n",
              "      <th>26</th>\n",
              "      <td>Egypt</td>\n",
              "    </tr>\n",
              "    <tr>\n",
              "      <th>27</th>\n",
              "      <td>Brazil</td>\n",
              "    </tr>\n",
              "    <tr>\n",
              "      <th>28</th>\n",
              "      <td>Colombia</td>\n",
              "    </tr>\n",
              "    <tr>\n",
              "      <th>29</th>\n",
              "      <td>Italy</td>\n",
              "    </tr>\n",
              "    <tr>\n",
              "      <th>...</th>\n",
              "      <td>...</td>\n",
              "    </tr>\n",
              "    <tr>\n",
              "      <th>18177</th>\n",
              "      <td>Republic of Ireland</td>\n",
              "    </tr>\n",
              "    <tr>\n",
              "      <th>18178</th>\n",
              "      <td>Sweden</td>\n",
              "    </tr>\n",
              "    <tr>\n",
              "      <th>18179</th>\n",
              "      <td>England</td>\n",
              "    </tr>\n",
              "    <tr>\n",
              "      <th>18180</th>\n",
              "      <td>Scotland</td>\n",
              "    </tr>\n",
              "    <tr>\n",
              "      <th>18181</th>\n",
              "      <td>Republic of Ireland</td>\n",
              "    </tr>\n",
              "    <tr>\n",
              "      <th>18182</th>\n",
              "      <td>Colombia</td>\n",
              "    </tr>\n",
              "    <tr>\n",
              "      <th>18183</th>\n",
              "      <td>England</td>\n",
              "    </tr>\n",
              "    <tr>\n",
              "      <th>18184</th>\n",
              "      <td>England</td>\n",
              "    </tr>\n",
              "    <tr>\n",
              "      <th>18185</th>\n",
              "      <td>Republic of Ireland</td>\n",
              "    </tr>\n",
              "    <tr>\n",
              "      <th>18186</th>\n",
              "      <td>China PR</td>\n",
              "    </tr>\n",
              "    <tr>\n",
              "      <th>18187</th>\n",
              "      <td>Germany</td>\n",
              "    </tr>\n",
              "    <tr>\n",
              "      <th>18188</th>\n",
              "      <td>Wales</td>\n",
              "    </tr>\n",
              "    <tr>\n",
              "      <th>18189</th>\n",
              "      <td>Germany</td>\n",
              "    </tr>\n",
              "    <tr>\n",
              "      <th>18190</th>\n",
              "      <td>England</td>\n",
              "    </tr>\n",
              "    <tr>\n",
              "      <th>18191</th>\n",
              "      <td>England</td>\n",
              "    </tr>\n",
              "    <tr>\n",
              "      <th>18192</th>\n",
              "      <td>England</td>\n",
              "    </tr>\n",
              "    <tr>\n",
              "      <th>18193</th>\n",
              "      <td>Chile</td>\n",
              "    </tr>\n",
              "    <tr>\n",
              "      <th>18194</th>\n",
              "      <td>Italy</td>\n",
              "    </tr>\n",
              "    <tr>\n",
              "      <th>18195</th>\n",
              "      <td>Republic of Ireland</td>\n",
              "    </tr>\n",
              "    <tr>\n",
              "      <th>18196</th>\n",
              "      <td>Japan</td>\n",
              "    </tr>\n",
              "    <tr>\n",
              "      <th>18197</th>\n",
              "      <td>Republic of Ireland</td>\n",
              "    </tr>\n",
              "    <tr>\n",
              "      <th>18198</th>\n",
              "      <td>England</td>\n",
              "    </tr>\n",
              "    <tr>\n",
              "      <th>18199</th>\n",
              "      <td>Canada</td>\n",
              "    </tr>\n",
              "    <tr>\n",
              "      <th>18200</th>\n",
              "      <td>Scotland</td>\n",
              "    </tr>\n",
              "    <tr>\n",
              "      <th>18201</th>\n",
              "      <td>Republic of Ireland</td>\n",
              "    </tr>\n",
              "    <tr>\n",
              "      <th>18202</th>\n",
              "      <td>England</td>\n",
              "    </tr>\n",
              "    <tr>\n",
              "      <th>18203</th>\n",
              "      <td>Sweden</td>\n",
              "    </tr>\n",
              "    <tr>\n",
              "      <th>18204</th>\n",
              "      <td>England</td>\n",
              "    </tr>\n",
              "    <tr>\n",
              "      <th>18205</th>\n",
              "      <td>England</td>\n",
              "    </tr>\n",
              "    <tr>\n",
              "      <th>18206</th>\n",
              "      <td>England</td>\n",
              "    </tr>\n",
              "  </tbody>\n",
              "</table>\n",
              "<p>18207 rows × 1 columns</p>\n",
              "</div>"
            ],
            "text/plain": [
              "                        c1\n",
              "0                Argentina\n",
              "1                 Portugal\n",
              "2                   Brazil\n",
              "3                    Spain\n",
              "4                  Belgium\n",
              "5                  Belgium\n",
              "6                  Croatia\n",
              "7                  Uruguay\n",
              "8                    Spain\n",
              "9                 Slovenia\n",
              "10                  Poland\n",
              "11                 Germany\n",
              "12                 Uruguay\n",
              "13                   Spain\n",
              "14                  France\n",
              "15               Argentina\n",
              "16                 England\n",
              "17                  France\n",
              "18                 Germany\n",
              "19                 Belgium\n",
              "20                   Spain\n",
              "21                 Uruguay\n",
              "22                 Germany\n",
              "23               Argentina\n",
              "24                   Italy\n",
              "25                  France\n",
              "26                   Egypt\n",
              "27                  Brazil\n",
              "28                Colombia\n",
              "29                   Italy\n",
              "...                    ...\n",
              "18177  Republic of Ireland\n",
              "18178               Sweden\n",
              "18179              England\n",
              "18180             Scotland\n",
              "18181  Republic of Ireland\n",
              "18182             Colombia\n",
              "18183              England\n",
              "18184              England\n",
              "18185  Republic of Ireland\n",
              "18186             China PR\n",
              "18187              Germany\n",
              "18188                Wales\n",
              "18189              Germany\n",
              "18190              England\n",
              "18191              England\n",
              "18192              England\n",
              "18193                Chile\n",
              "18194                Italy\n",
              "18195  Republic of Ireland\n",
              "18196                Japan\n",
              "18197  Republic of Ireland\n",
              "18198              England\n",
              "18199               Canada\n",
              "18200             Scotland\n",
              "18201  Republic of Ireland\n",
              "18202              England\n",
              "18203               Sweden\n",
              "18204              England\n",
              "18205              England\n",
              "18206              England\n",
              "\n",
              "[18207 rows x 1 columns]"
            ]
          },
          "metadata": {
            "tags": []
          },
          "execution_count": 35
        }
      ]
    },
    {
      "cell_type": "markdown",
      "metadata": {
        "id": "EH3jReaa-ANm",
        "colab_type": "text"
      },
      "source": [
        "## **Label encoding**"
      ]
    },
    {
      "cell_type": "code",
      "metadata": {
        "id": "cL7c5gDR-E73",
        "colab_type": "code",
        "colab": {}
      },
      "source": [
        "from sklearn.preprocessing import LabelEncoder, OneHotEncoder"
      ],
      "execution_count": 0,
      "outputs": []
    },
    {
      "cell_type": "code",
      "metadata": {
        "id": "g-T7eyXk-LQ-",
        "colab_type": "code",
        "colab": {}
      },
      "source": [
        "le = LabelEncoder()\n",
        "cat_enc_le = le.fit_transform(cat_enc['c1'])"
      ],
      "execution_count": 0,
      "outputs": []
    },
    {
      "cell_type": "code",
      "metadata": {
        "id": "TuRsGD6r-bVe",
        "colab_type": "code",
        "outputId": "ce1e3a4e-08ad-4b27-84fd-73c777451d28",
        "colab": {
          "base_uri": "https://localhost:8080/",
          "height": 611
        }
      },
      "source": [
        "cat_enc['c1'].unique()"
      ],
      "execution_count": 0,
      "outputs": [
        {
          "output_type": "execute_result",
          "data": {
            "text/plain": [
              "array(['Argentina', 'Portugal', 'Brazil', 'Spain', 'Belgium', 'Croatia',\n",
              "       'Uruguay', 'Slovenia', 'Poland', 'Germany', 'France', 'England',\n",
              "       'Italy', 'Egypt', 'Colombia', 'Denmark', 'Gabon', 'Wales',\n",
              "       'Senegal', 'Costa Rica', 'Slovakia', 'Netherlands',\n",
              "       'Bosnia Herzegovina', 'Morocco', 'Serbia', 'Algeria', 'Austria',\n",
              "       'Greece', 'Chile', 'Sweden', 'Korea Republic', 'Finland', 'Guinea',\n",
              "       'Montenegro', 'Armenia', 'Switzerland', 'Norway', 'Czech Republic',\n",
              "       'Scotland', 'Ghana', 'Central African Rep.', 'DR Congo',\n",
              "       'Ivory Coast', 'Russia', 'Ukraine', 'Iceland', 'Mexico', 'Jamaica',\n",
              "       'Albania', 'Venezuela', 'Japan', 'Turkey', 'Ecuador', 'Paraguay',\n",
              "       'Mali', 'Nigeria', 'Cameroon', 'Dominican Republic', 'Israel',\n",
              "       'Kenya', 'Hungary', 'Republic of Ireland', 'Romania',\n",
              "       'United States', 'Cape Verde', 'Australia', 'Peru', 'Togo',\n",
              "       'Syria', 'Zimbabwe', 'Angola', 'Burkina Faso', 'Iran', 'Estonia',\n",
              "       'Tunisia', 'Equatorial Guinea', 'New Zealand', 'FYR Macedonia',\n",
              "       'United Arab Emirates', 'China PR', 'Guinea Bissau', 'Bulgaria',\n",
              "       'Kosovo', 'South Africa', 'Madagascar', 'Georgia', 'Tanzania',\n",
              "       'Gambia', 'Cuba', 'Belarus', 'Uzbekistan', 'Benin', 'Congo',\n",
              "       'Mozambique', 'Honduras', 'Canada', 'Northern Ireland', 'Cyprus',\n",
              "       'Saudi Arabia', 'Curacao', 'Moldova', 'Bolivia',\n",
              "       'Trinidad & Tobago', 'Sierra Leone', 'Zambia', 'Chad',\n",
              "       'Philippines', 'Haiti', 'Comoros', 'Libya', 'Panama',\n",
              "       'São Tomé & Príncipe', 'Eritrea', 'Oman', 'Iraq', 'Burundi',\n",
              "       'Fiji', 'New Caledonia', 'Lithuania', 'Luxembourg', 'Korea DPR',\n",
              "       'Liechtenstein', 'St Kitts Nevis', 'Latvia', 'Suriname', 'Uganda',\n",
              "       'El Salvador', 'Bermuda', 'Kuwait', 'Antigua & Barbuda',\n",
              "       'Thailand', 'Mauritius', 'Guatemala', 'Liberia', 'Kazakhstan',\n",
              "       'Niger', 'Mauritania', 'Montserrat', 'Namibia', 'Azerbaijan',\n",
              "       'Guam', 'Faroe Islands', 'India', 'Nicaragua', 'Barbados',\n",
              "       'Lebanon', 'Palestine', 'Guyana', 'Sudan', 'St Lucia', 'Ethiopia',\n",
              "       'Puerto Rico', 'Grenada', 'Jordan', 'Rwanda', 'Qatar',\n",
              "       'Afghanistan', 'Hong Kong', 'Andorra', 'Malta', 'Belize',\n",
              "       'South Sudan', 'Indonesia', 'Botswana'], dtype=object)"
            ]
          },
          "metadata": {
            "tags": []
          },
          "execution_count": 38
        }
      ]
    },
    {
      "cell_type": "code",
      "metadata": {
        "id": "p1c6nPsRAcR9",
        "colab_type": "code",
        "outputId": "aa05e12a-266a-4cd5-f3af-6e64b68d1429",
        "colab": {
          "base_uri": "https://localhost:8080/",
          "height": 251
        }
      },
      "source": [
        "np.unique(cat_enc_le)"
      ],
      "execution_count": 0,
      "outputs": [
        {
          "output_type": "execute_result",
          "data": {
            "text/plain": [
              "array([  0,   1,   2,   3,   4,   5,   6,   7,   8,   9,  10,  11,  12,\n",
              "        13,  14,  15,  16,  17,  18,  19,  20,  21,  22,  23,  24,  25,\n",
              "        26,  27,  28,  29,  30,  31,  32,  33,  34,  35,  36,  37,  38,\n",
              "        39,  40,  41,  42,  43,  44,  45,  46,  47,  48,  49,  50,  51,\n",
              "        52,  53,  54,  55,  56,  57,  58,  59,  60,  61,  62,  63,  64,\n",
              "        65,  66,  67,  68,  69,  70,  71,  72,  73,  74,  75,  76,  77,\n",
              "        78,  79,  80,  81,  82,  83,  84,  85,  86,  87,  88,  89,  90,\n",
              "        91,  92,  93,  94,  95,  96,  97,  98,  99, 100, 101, 102, 103,\n",
              "       104, 105, 106, 107, 108, 109, 110, 111, 112, 113, 114, 115, 116,\n",
              "       117, 118, 119, 120, 121, 122, 123, 124, 125, 126, 127, 128, 129,\n",
              "       130, 131, 132, 133, 134, 135, 136, 137, 138, 139, 140, 141, 142,\n",
              "       143, 144, 145, 146, 147, 148, 149, 150, 151, 152, 153, 154, 155,\n",
              "       156, 157, 158, 159, 160, 161, 162, 163])"
            ]
          },
          "metadata": {
            "tags": []
          },
          "execution_count": 39
        }
      ]
    },
    {
      "cell_type": "code",
      "metadata": {
        "id": "7gFdehwtAgEm",
        "colab_type": "code",
        "outputId": "bfbda77d-9bce-4761-f649-d412db75d70c",
        "colab": {
          "base_uri": "https://localhost:8080/",
          "height": 611
        }
      },
      "source": [
        "le.inverse_transform([x for x in range(164)])"
      ],
      "execution_count": 0,
      "outputs": [
        {
          "output_type": "execute_result",
          "data": {
            "text/plain": [
              "array(['Afghanistan', 'Albania', 'Algeria', 'Andorra', 'Angola',\n",
              "       'Antigua & Barbuda', 'Argentina', 'Armenia', 'Australia',\n",
              "       'Austria', 'Azerbaijan', 'Barbados', 'Belarus', 'Belgium',\n",
              "       'Belize', 'Benin', 'Bermuda', 'Bolivia', 'Bosnia Herzegovina',\n",
              "       'Botswana', 'Brazil', 'Bulgaria', 'Burkina Faso', 'Burundi',\n",
              "       'Cameroon', 'Canada', 'Cape Verde', 'Central African Rep.', 'Chad',\n",
              "       'Chile', 'China PR', 'Colombia', 'Comoros', 'Congo', 'Costa Rica',\n",
              "       'Croatia', 'Cuba', 'Curacao', 'Cyprus', 'Czech Republic',\n",
              "       'DR Congo', 'Denmark', 'Dominican Republic', 'Ecuador', 'Egypt',\n",
              "       'El Salvador', 'England', 'Equatorial Guinea', 'Eritrea',\n",
              "       'Estonia', 'Ethiopia', 'FYR Macedonia', 'Faroe Islands', 'Fiji',\n",
              "       'Finland', 'France', 'Gabon', 'Gambia', 'Georgia', 'Germany',\n",
              "       'Ghana', 'Greece', 'Grenada', 'Guam', 'Guatemala', 'Guinea',\n",
              "       'Guinea Bissau', 'Guyana', 'Haiti', 'Honduras', 'Hong Kong',\n",
              "       'Hungary', 'Iceland', 'India', 'Indonesia', 'Iran', 'Iraq',\n",
              "       'Israel', 'Italy', 'Ivory Coast', 'Jamaica', 'Japan', 'Jordan',\n",
              "       'Kazakhstan', 'Kenya', 'Korea DPR', 'Korea Republic', 'Kosovo',\n",
              "       'Kuwait', 'Latvia', 'Lebanon', 'Liberia', 'Libya', 'Liechtenstein',\n",
              "       'Lithuania', 'Luxembourg', 'Madagascar', 'Mali', 'Malta',\n",
              "       'Mauritania', 'Mauritius', 'Mexico', 'Moldova', 'Montenegro',\n",
              "       'Montserrat', 'Morocco', 'Mozambique', 'Namibia', 'Netherlands',\n",
              "       'New Caledonia', 'New Zealand', 'Nicaragua', 'Niger', 'Nigeria',\n",
              "       'Northern Ireland', 'Norway', 'Oman', 'Palestine', 'Panama',\n",
              "       'Paraguay', 'Peru', 'Philippines', 'Poland', 'Portugal',\n",
              "       'Puerto Rico', 'Qatar', 'Republic of Ireland', 'Romania', 'Russia',\n",
              "       'Rwanda', 'Saudi Arabia', 'Scotland', 'Senegal', 'Serbia',\n",
              "       'Sierra Leone', 'Slovakia', 'Slovenia', 'South Africa',\n",
              "       'South Sudan', 'Spain', 'St Kitts Nevis', 'St Lucia', 'Sudan',\n",
              "       'Suriname', 'Sweden', 'Switzerland', 'Syria',\n",
              "       'São Tomé & Príncipe', 'Tanzania', 'Thailand', 'Togo',\n",
              "       'Trinidad & Tobago', 'Tunisia', 'Turkey', 'Uganda', 'Ukraine',\n",
              "       'United Arab Emirates', 'United States', 'Uruguay', 'Uzbekistan',\n",
              "       'Venezuela', 'Wales', 'Zambia', 'Zimbabwe'], dtype=object)"
            ]
          },
          "metadata": {
            "tags": []
          },
          "execution_count": 56
        }
      ]
    },
    {
      "cell_type": "markdown",
      "metadata": {
        "id": "DZCxMGzSAiRa",
        "colab_type": "text"
      },
      "source": [
        "## **One-hot encording**"
      ]
    },
    {
      "cell_type": "code",
      "metadata": {
        "id": "_cG5oG_nAnxT",
        "colab_type": "code",
        "colab": {}
      },
      "source": [
        "ohe = OneHotEncoder()\n",
        "cat_enc_ohe = ohe.fit_transform(cat_enc[['c1']])"
      ],
      "execution_count": 0,
      "outputs": []
    },
    {
      "cell_type": "code",
      "metadata": {
        "id": "JW_iHxqbArZv",
        "colab_type": "code",
        "outputId": "828baa11-0d8d-491b-d13c-22cfff5e0fa7",
        "colab": {
          "base_uri": "https://localhost:8080/",
          "height": 35
        }
      },
      "source": [
        "cat_enc.shape"
      ],
      "execution_count": 0,
      "outputs": [
        {
          "output_type": "execute_result",
          "data": {
            "text/plain": [
              "(18207, 1)"
            ]
          },
          "metadata": {
            "tags": []
          },
          "execution_count": 42
        }
      ]
    },
    {
      "cell_type": "code",
      "metadata": {
        "id": "5pazy8FYAtJr",
        "colab_type": "code",
        "outputId": "7fbcf8ee-4f46-4f66-93f9-77b6c1830091",
        "colab": {
          "base_uri": "https://localhost:8080/",
          "height": 35
        }
      },
      "source": [
        "cat_enc_ohe.shape"
      ],
      "execution_count": 0,
      "outputs": [
        {
          "output_type": "execute_result",
          "data": {
            "text/plain": [
              "(18207, 164)"
            ]
          },
          "metadata": {
            "tags": []
          },
          "execution_count": 43
        }
      ]
    },
    {
      "cell_type": "code",
      "metadata": {
        "id": "UA4Rtmg4AwN1",
        "colab_type": "code",
        "outputId": "565665b0-d054-4645-e84e-8181aa1e4247",
        "colab": {
          "base_uri": "https://localhost:8080/",
          "height": 53
        }
      },
      "source": [
        "cat_enc_ohe"
      ],
      "execution_count": 0,
      "outputs": [
        {
          "output_type": "execute_result",
          "data": {
            "text/plain": [
              "<18207x164 sparse matrix of type '<class 'numpy.float64'>'\n",
              "\twith 18207 stored elements in Compressed Sparse Row format>"
            ]
          },
          "metadata": {
            "tags": []
          },
          "execution_count": 44
        }
      ]
    },
    {
      "cell_type": "code",
      "metadata": {
        "id": "_WziW9AXAyLQ",
        "colab_type": "code",
        "outputId": "4e2748b8-1a4e-4692-a6d6-1453d5b095df",
        "colab": {
          "base_uri": "https://localhost:8080/",
          "height": 143
        }
      },
      "source": [
        "cat_enc_ohe.todense()[0:163]"
      ],
      "execution_count": 0,
      "outputs": [
        {
          "output_type": "execute_result",
          "data": {
            "text/plain": [
              "matrix([[0., 0., 0., ..., 0., 0., 0.],\n",
              "        [0., 0., 0., ..., 0., 0., 0.],\n",
              "        [0., 0., 0., ..., 0., 0., 0.],\n",
              "        ...,\n",
              "        [0., 0., 0., ..., 0., 0., 0.],\n",
              "        [0., 0., 0., ..., 0., 0., 0.],\n",
              "        [0., 0., 0., ..., 0., 0., 0.]])"
            ]
          },
          "metadata": {
            "tags": []
          },
          "execution_count": 60
        }
      ]
    },
    {
      "cell_type": "code",
      "metadata": {
        "id": "-E1Cj--eA1jd",
        "colab_type": "code",
        "outputId": "beff92f4-0a97-4755-cf96-c9989cadd6a7",
        "colab": {
          "base_uri": "https://localhost:8080/",
          "height": 1969
        }
      },
      "source": [
        "cat_enc.head(100)"
      ],
      "execution_count": 0,
      "outputs": [
        {
          "output_type": "execute_result",
          "data": {
            "text/html": [
              "<div>\n",
              "<style scoped>\n",
              "    .dataframe tbody tr th:only-of-type {\n",
              "        vertical-align: middle;\n",
              "    }\n",
              "\n",
              "    .dataframe tbody tr th {\n",
              "        vertical-align: top;\n",
              "    }\n",
              "\n",
              "    .dataframe thead th {\n",
              "        text-align: right;\n",
              "    }\n",
              "</style>\n",
              "<table border=\"1\" class=\"dataframe\">\n",
              "  <thead>\n",
              "    <tr style=\"text-align: right;\">\n",
              "      <th></th>\n",
              "      <th>c1</th>\n",
              "    </tr>\n",
              "  </thead>\n",
              "  <tbody>\n",
              "    <tr>\n",
              "      <th>0</th>\n",
              "      <td>Argentina</td>\n",
              "    </tr>\n",
              "    <tr>\n",
              "      <th>1</th>\n",
              "      <td>Portugal</td>\n",
              "    </tr>\n",
              "    <tr>\n",
              "      <th>2</th>\n",
              "      <td>Brazil</td>\n",
              "    </tr>\n",
              "    <tr>\n",
              "      <th>3</th>\n",
              "      <td>Spain</td>\n",
              "    </tr>\n",
              "    <tr>\n",
              "      <th>4</th>\n",
              "      <td>Belgium</td>\n",
              "    </tr>\n",
              "    <tr>\n",
              "      <th>5</th>\n",
              "      <td>Belgium</td>\n",
              "    </tr>\n",
              "    <tr>\n",
              "      <th>6</th>\n",
              "      <td>Croatia</td>\n",
              "    </tr>\n",
              "    <tr>\n",
              "      <th>7</th>\n",
              "      <td>Uruguay</td>\n",
              "    </tr>\n",
              "    <tr>\n",
              "      <th>8</th>\n",
              "      <td>Spain</td>\n",
              "    </tr>\n",
              "    <tr>\n",
              "      <th>9</th>\n",
              "      <td>Slovenia</td>\n",
              "    </tr>\n",
              "    <tr>\n",
              "      <th>10</th>\n",
              "      <td>Poland</td>\n",
              "    </tr>\n",
              "    <tr>\n",
              "      <th>11</th>\n",
              "      <td>Germany</td>\n",
              "    </tr>\n",
              "    <tr>\n",
              "      <th>12</th>\n",
              "      <td>Uruguay</td>\n",
              "    </tr>\n",
              "    <tr>\n",
              "      <th>13</th>\n",
              "      <td>Spain</td>\n",
              "    </tr>\n",
              "    <tr>\n",
              "      <th>14</th>\n",
              "      <td>France</td>\n",
              "    </tr>\n",
              "    <tr>\n",
              "      <th>15</th>\n",
              "      <td>Argentina</td>\n",
              "    </tr>\n",
              "    <tr>\n",
              "      <th>16</th>\n",
              "      <td>England</td>\n",
              "    </tr>\n",
              "    <tr>\n",
              "      <th>17</th>\n",
              "      <td>France</td>\n",
              "    </tr>\n",
              "    <tr>\n",
              "      <th>18</th>\n",
              "      <td>Germany</td>\n",
              "    </tr>\n",
              "    <tr>\n",
              "      <th>19</th>\n",
              "      <td>Belgium</td>\n",
              "    </tr>\n",
              "    <tr>\n",
              "      <th>20</th>\n",
              "      <td>Spain</td>\n",
              "    </tr>\n",
              "    <tr>\n",
              "      <th>21</th>\n",
              "      <td>Uruguay</td>\n",
              "    </tr>\n",
              "    <tr>\n",
              "      <th>22</th>\n",
              "      <td>Germany</td>\n",
              "    </tr>\n",
              "    <tr>\n",
              "      <th>23</th>\n",
              "      <td>Argentina</td>\n",
              "    </tr>\n",
              "    <tr>\n",
              "      <th>24</th>\n",
              "      <td>Italy</td>\n",
              "    </tr>\n",
              "    <tr>\n",
              "      <th>25</th>\n",
              "      <td>France</td>\n",
              "    </tr>\n",
              "    <tr>\n",
              "      <th>26</th>\n",
              "      <td>Egypt</td>\n",
              "    </tr>\n",
              "    <tr>\n",
              "      <th>27</th>\n",
              "      <td>Brazil</td>\n",
              "    </tr>\n",
              "    <tr>\n",
              "      <th>28</th>\n",
              "      <td>Colombia</td>\n",
              "    </tr>\n",
              "    <tr>\n",
              "      <th>29</th>\n",
              "      <td>Italy</td>\n",
              "    </tr>\n",
              "    <tr>\n",
              "      <th>...</th>\n",
              "      <td>...</td>\n",
              "    </tr>\n",
              "    <tr>\n",
              "      <th>70</th>\n",
              "      <td>Italy</td>\n",
              "    </tr>\n",
              "    <tr>\n",
              "      <th>71</th>\n",
              "      <td>Belgium</td>\n",
              "    </tr>\n",
              "    <tr>\n",
              "      <th>72</th>\n",
              "      <td>Bosnia Herzegovina</td>\n",
              "    </tr>\n",
              "    <tr>\n",
              "      <th>73</th>\n",
              "      <td>Morocco</td>\n",
              "    </tr>\n",
              "    <tr>\n",
              "      <th>74</th>\n",
              "      <td>Germany</td>\n",
              "    </tr>\n",
              "    <tr>\n",
              "      <th>75</th>\n",
              "      <td>Brazil</td>\n",
              "    </tr>\n",
              "    <tr>\n",
              "      <th>76</th>\n",
              "      <td>Spain</td>\n",
              "    </tr>\n",
              "    <tr>\n",
              "      <th>77</th>\n",
              "      <td>Slovakia</td>\n",
              "    </tr>\n",
              "    <tr>\n",
              "      <th>78</th>\n",
              "      <td>Serbia</td>\n",
              "    </tr>\n",
              "    <tr>\n",
              "      <th>79</th>\n",
              "      <td>Spain</td>\n",
              "    </tr>\n",
              "    <tr>\n",
              "      <th>80</th>\n",
              "      <td>France</td>\n",
              "    </tr>\n",
              "    <tr>\n",
              "      <th>81</th>\n",
              "      <td>Brazil</td>\n",
              "    </tr>\n",
              "    <tr>\n",
              "      <th>82</th>\n",
              "      <td>Germany</td>\n",
              "    </tr>\n",
              "    <tr>\n",
              "      <th>83</th>\n",
              "      <td>Spain</td>\n",
              "    </tr>\n",
              "    <tr>\n",
              "      <th>84</th>\n",
              "      <td>Algeria</td>\n",
              "    </tr>\n",
              "    <tr>\n",
              "      <th>85</th>\n",
              "      <td>Austria</td>\n",
              "    </tr>\n",
              "    <tr>\n",
              "      <th>86</th>\n",
              "      <td>Spain</td>\n",
              "    </tr>\n",
              "    <tr>\n",
              "      <th>87</th>\n",
              "      <td>France</td>\n",
              "    </tr>\n",
              "    <tr>\n",
              "      <th>88</th>\n",
              "      <td>Greece</td>\n",
              "    </tr>\n",
              "    <tr>\n",
              "      <th>89</th>\n",
              "      <td>Argentina</td>\n",
              "    </tr>\n",
              "    <tr>\n",
              "      <th>90</th>\n",
              "      <td>Spain</td>\n",
              "    </tr>\n",
              "    <tr>\n",
              "      <th>91</th>\n",
              "      <td>Brazil</td>\n",
              "    </tr>\n",
              "    <tr>\n",
              "      <th>92</th>\n",
              "      <td>Poland</td>\n",
              "    </tr>\n",
              "    <tr>\n",
              "      <th>93</th>\n",
              "      <td>Chile</td>\n",
              "    </tr>\n",
              "    <tr>\n",
              "      <th>94</th>\n",
              "      <td>Algeria</td>\n",
              "    </tr>\n",
              "    <tr>\n",
              "      <th>95</th>\n",
              "      <td>Germany</td>\n",
              "    </tr>\n",
              "    <tr>\n",
              "      <th>96</th>\n",
              "      <td>Chile</td>\n",
              "    </tr>\n",
              "    <tr>\n",
              "      <th>97</th>\n",
              "      <td>Croatia</td>\n",
              "    </tr>\n",
              "    <tr>\n",
              "      <th>98</th>\n",
              "      <td>Bosnia Herzegovina</td>\n",
              "    </tr>\n",
              "    <tr>\n",
              "      <th>99</th>\n",
              "      <td>Germany</td>\n",
              "    </tr>\n",
              "  </tbody>\n",
              "</table>\n",
              "<p>100 rows × 1 columns</p>\n",
              "</div>"
            ],
            "text/plain": [
              "                    c1\n",
              "0            Argentina\n",
              "1             Portugal\n",
              "2               Brazil\n",
              "3                Spain\n",
              "4              Belgium\n",
              "5              Belgium\n",
              "6              Croatia\n",
              "7              Uruguay\n",
              "8                Spain\n",
              "9             Slovenia\n",
              "10              Poland\n",
              "11             Germany\n",
              "12             Uruguay\n",
              "13               Spain\n",
              "14              France\n",
              "15           Argentina\n",
              "16             England\n",
              "17              France\n",
              "18             Germany\n",
              "19             Belgium\n",
              "20               Spain\n",
              "21             Uruguay\n",
              "22             Germany\n",
              "23           Argentina\n",
              "24               Italy\n",
              "25              France\n",
              "26               Egypt\n",
              "27              Brazil\n",
              "28            Colombia\n",
              "29               Italy\n",
              "..                 ...\n",
              "70               Italy\n",
              "71             Belgium\n",
              "72  Bosnia Herzegovina\n",
              "73             Morocco\n",
              "74             Germany\n",
              "75              Brazil\n",
              "76               Spain\n",
              "77            Slovakia\n",
              "78              Serbia\n",
              "79               Spain\n",
              "80              France\n",
              "81              Brazil\n",
              "82             Germany\n",
              "83               Spain\n",
              "84             Algeria\n",
              "85             Austria\n",
              "86               Spain\n",
              "87              France\n",
              "88              Greece\n",
              "89           Argentina\n",
              "90               Spain\n",
              "91              Brazil\n",
              "92              Poland\n",
              "93               Chile\n",
              "94             Algeria\n",
              "95             Germany\n",
              "96               Chile\n",
              "97             Croatia\n",
              "98  Bosnia Herzegovina\n",
              "99             Germany\n",
              "\n",
              "[100 rows x 1 columns]"
            ]
          },
          "metadata": {
            "tags": []
          },
          "execution_count": 57
        }
      ]
    }
  ]
}